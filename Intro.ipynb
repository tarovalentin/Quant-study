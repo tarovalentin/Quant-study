{
 "cells": [
  {
   "cell_type": "code",
   "execution_count": 2,
   "metadata": {},
   "outputs": [
    {
     "name": "stderr",
     "output_type": "stream",
     "text": [
      "c:\\ProgramData\\Anaconda3\\lib\\site-packages\\statsmodels\\tools\\_testing.py:19: FutureWarning: pandas.util.testing is deprecated. Use the functions in the public API at pandas.testing instead.\n",
      "  import pandas.util.testing as tm\n"
     ]
    }
   ],
   "source": [
    "# Clear all variables\n",
    "%reset -f\n",
    "import pandas as pd\n",
    "import matplotlib.pyplot as plt\n",
    "import numpy as np\n",
    "import tensorflow as tf\n",
    "from tensorflow import keras\n",
    "import seaborn as sns\n",
    "import os\n",
    "import time\n",
    "from datetime import datetime\n",
    "\n",
    "import warnings\n",
    "warnings.filterwarnings(\"ignore\")\n",
    "\n"
   ]
  },
  {
   "cell_type": "markdown",
   "metadata": {},
   "source": [
    "***Essential Numpy Moves***\n",
    "\n",
    "**E1:**\n",
    "\n",
    "Create a 1 000 000‑sample vector of i.i.d. 𝒩(0, 1) numbers. 2. Re‑create it as float32 without an explicit loop."
   ]
  },
  {
   "cell_type": "code",
   "execution_count": 5,
   "metadata": {},
   "outputs": [
    {
     "name": "stdout",
     "output_type": "stream",
     "text": [
      "[[-0.29274736]\n",
      " [ 0.74768368]\n",
      " [ 0.83232078]\n",
      " [ 0.06265928]]\n"
     ]
    }
   ],
   "source": [
    "x64 = np.random.standard_normal((1000000,1)) # produce 1 million \"independent and identically distributed\" (iid) random numbers.\n",
    "print(x64[1:5])\n",
    "x32 = x64.astype(np.float32) # convert to 32 bit float"
   ]
  },
  {
   "cell_type": "markdown",
   "metadata": {},
   "source": [
    "\n",
    "**E2:**\n",
    "\n",
    "Turn a 100 × 100 matrix into a 10 × 10 × 100 “batch cube” where each frontal slice is 10 × 10"
   ]
  },
  {
   "cell_type": "code",
   "execution_count": 6,
   "metadata": {},
   "outputs": [],
   "source": [
    "X = np.random.standard_normal((100,100)) # produce 100 x 100 iid random numbers.\n",
    "Y = X.reshape(10,10,100)"
   ]
  },
  {
   "cell_type": "markdown",
   "metadata": {},
   "source": [
    "**E3**\n",
    "\n",
    "Compute all pairwise dot‑products of 100 random 3‑D vectors with and without a for‑loop."
   ]
  },
  {
   "cell_type": "code",
   "execution_count": 9,
   "metadata": {},
   "outputs": [
    {
     "name": "stdout",
     "output_type": "stream",
     "text": [
      "Execution time difference in for loop vs einsum: 0.039880990982055664 seconds\n"
     ]
    }
   ],
   "source": [
    "N = 100\n",
    "V = np.zeros((N,N), int)\n",
    "\n",
    "# first with a for loop\n",
    "v1 = np.random.randint(1,10,(N,3))\n",
    "start_time_1 = time.time()\n",
    "for i in range(N):\n",
    "    for j in range(N):\n",
    "        V[i,j] = np.dot(v1[i],v1[j].T)\n",
    "end_time_1 = time.time()\n",
    "\n",
    "\n",
    "# now with einsum\n",
    "start_time_2 = time.time()\n",
    "d2 = np.einsum('ik,jk->ij', v1, v1)\n",
    "end_time_2 = time.time()\n",
    "\n",
    "\n",
    "execution_time_1 = end_time_1 - start_time_1\n",
    "execution_time_2 = end_time_2 - start_time_2\n",
    "ex_diff = execution_time_1 - execution_time_2\n",
    "print(f\"Execution time difference in for loop vs einsum: {ex_diff} seconds\")"
   ]
  },
  {
   "cell_type": "markdown",
   "metadata": {},
   "source": [
    "**E3**\n",
    "\n",
    "Compute the product of \n",
    "\n",
    "1) Two matrices\n",
    "2) Matrix with a vector\n",
    "3) Batched matrix multiplication\n",
    "4) Using broadcastring compute the product of a batch of matrices with a single matrix"
   ]
  },
  {
   "cell_type": "code",
   "execution_count": 11,
   "metadata": {},
   "outputs": [
    {
     "name": "stdout",
     "output_type": "stream",
     "text": [
      "[[ True  True]\n",
      " [ True  True]]\n",
      "[[[23 20]\n",
      "  [55 48]]\n",
      "\n",
      " [[43 32]\n",
      "  [59 44]]]\n",
      "[[[ 7 10]\n",
      "  [15 22]]\n",
      "\n",
      " [[23 34]\n",
      "  [31 46]]]\n"
     ]
    }
   ],
   "source": [
    "A = np.array([[1, 2], [3, 4]])\n",
    "B = np.array([[5, 6], [7, 8]])\n",
    "v = np.array([3, 6])\n",
    "\n",
    "C = np.einsum('ij,jk->ik', A, B)  # Matrix multiplication using einsum\n",
    "D = np.matmul(A, B)  # Matrix multiplication using matmul\n",
    "print(C==D) # Check if the results are the same\n",
    "\n",
    "X1 = np.einsum('ij,j -> i', A, v) \n",
    "X2 = np.matmul(A, v)\n",
    "X1-X2 # Check if the results are the same\n",
    "\n",
    "D = np.array([[[1, 2], [3, 4]], [[5, 6], [7, 8]]])\n",
    "E = np.array([[[9, 8], [7, 6]], [[5, 4], [3, 2]]])\n",
    "\n",
    "X3 = np.matmul(D, E)\n",
    "print(X3)\n",
    "\n",
    "F = np.array([[[1, 2], [3, 4]], [[5, 6], [7, 8]]])\n",
    "G = np.array([[1, 2], [3, 4]])\n",
    "\n",
    "result = np.matmul(F, G)\n",
    "print(result)\n"
   ]
  },
  {
   "cell_type": "markdown",
   "metadata": {},
   "source": [
    "**E3**\n",
    "\n",
    "Generate 100 paths of geometric Brownian motion, each with 1000 timesteps, return a vector of pathwise means in one line."
   ]
  },
  {
   "cell_type": "code",
   "execution_count": 44,
   "metadata": {},
   "outputs": [
    {
     "data": {
      "text/plain": [
       "[<matplotlib.lines.Line2D at 0x290483baac8>]"
      ]
     },
     "execution_count": 44,
     "metadata": {},
     "output_type": "execute_result"
    },
    {
     "data": {
      "image/png": "[encoded data removed]",
      "text/plain": [
       "<Figure size 432x288 with 1 Axes>"
      ]
     },
     "metadata": {
      "needs_background": "light"
     },
     "output_type": "display_data"
    }
   ],
   "source": [
    "y = np.random.standard_normal((100, 1000)) # produce 100 x 1000 iid random numbers (increments)\n",
    "cum_sum = np.cumsum(y, axis=1) # cumulative sum along the second axis\n",
    "mean_cum_sum = np.mean(cum_sum, axis=1) # mean of the cumulative sum along the second axis\n",
    "\n",
    "# in  one line\n",
    "y = np.random.default_rng(22).standard_normal((100,1000)).cumsum(1).mean(1)\n",
    "x = range(1,101)\n",
    "plt.plot(x, y, label='Mean of Cumulative Sum', color='blue')"
   ]
  },
  {
   "cell_type": "markdown",
   "metadata": {},
   "source": []
  },
  {
   "cell_type": "code",
   "execution_count": 79,
   "metadata": {},
   "outputs": [],
   "source": [
    "from scipy.stats import norm\n",
    "def N(d1):\n",
    "    return norm.cdf(d1)\n",
    "def Nprime(d1):\n",
    "    return norm.pdf(d1)\n",
    "\n",
    "def analytic_greek(S, K, T, sigma, r=0.0, q=0.0):\n",
    "    exp_q = np.exp(-q * T)\n",
    "    Expr = np.exp(-r * T)\n",
    "    d1 = (np.log(S / K) + (r - q + 0.5 * sigma ** 2) * T) / (sigma * np.sqrt(T))\n",
    "    d2 = d1 - sigma * np.sqrt(T)\n",
    "    C = S*exp_q*N(d1)-K*Expr*N(d2)\n",
    "    P = K*Expr*N(-d1)-S*exp_q*N(-d2)\n",
    "    # compute Greeks\n",
    "    delta = exp_q*N(d1)\n",
    "    gamma = exp_q*Nprime(d1) / (S * sigma * np.sqrt(T))\n",
    "    theta = -0.5 * S * exp_q * Nprime(d1) * sigma / np.sqrt(T) - r * K * Expr * N(d2) + q * S * exp_q * N(d1)\n",
    "    vega = S * exp_q * Nprime(d1) * np.sqrt(T)\n",
    "    rho = K * Expr * N(d2) * T\n",
    "    psi = -S * exp_q * N(d1) * T\n",
    "    return d1, d2, delta, gamma, theta, vega, rho, psi"
   ]
  },
  {
   "cell_type": "code",
   "execution_count": 80,
   "metadata": {},
   "outputs": [
    {
     "name": "stdout",
     "output_type": "stream",
     "text": [
      "d1: 0.1414213562373095, d2: -2.7755575615628914e-17, delta: 0.5562314580091424, gamma: 0.027928790169723425, theta: -6.575807867693853, vega: 27.928790169723428, rho: 24.7512458437292, psi: -27.811572900457122\n"
     ]
    }
   ],
   "source": [
    "[d1, d2, delta, gamma, theta, vega, rho, psi] = analytic_greek(100, 100, 0.5, 0.2, 0.02, 0.0)\n",
    "print(f\"d1: {d1}, d2: {d2}, delta: {delta}, gamma: {gamma}, theta: {theta}, vega: {vega}, rho: {rho}, psi: {psi}\")"
   ]
  },
  {
   "cell_type": "code",
   "execution_count": 86,
   "metadata": {},
   "outputs": [
    {
     "name": "stdout",
     "output_type": "stream",
     "text": [
      "[0.5615575442733106, 0.5664455887239763, 0.5709861715062394, 0.5752422538174826, 0.579259709439103, 0.583073193692467, 0.5867096492803215, 0.5901905174622761, 0.5935331950581405, 0.59675202974633, 0.5998590208353192, 0.6028643255275108, 0.6057766328677645, 0.6086034453479743, 0.6113512946052392, 0.6140259091448449, 0.6166323465230795, 0.6191750987856598, 0.6216581774946629, 0.6240851829770754, 0.6264593612339945, 0.6287836510970874, 0.6310607236013988, 0.6332930150902056, 0.6354827552305979, 0.637631990865069, 0.6397426064318724, 0.6418163415391711, 0.6438548061636211, 0.6458594938546987, 0.6478317932557741, 0.6497729981971665, 0.6516843165718845, 0.6535668781689604, 0.6554217416103242, 0.6572499005136068, 0.6590522889839803, 0.6608297865222886, 0.6625832224236179, 0.6643133797295637, 0.6660209987883802, 0.6677067804695762, 0.6693713890731313, 0.6710154549680898, 0.6726395769907115, 0.6742443246284561, 0.6758302400127477, 0.6773978397406168, 0.6789476165428612, 0.6804800408142626, 0.6819955620195635, 0.6834946099873307, 0.6849775961024557, 0.6864449144068439, 0.6878969426167971, 0.6893340430646802, 0.6907565635716549, 0.6921648382575587, 0.6935591882933818, 0.6949399226012463, 0.6963073385062998, 0.6976617223445094, 0.6990033500299501, 0.7003324875848473, 0.7016493916353219, 0.7029543098755172, 0.7042474815025418, 0.7055291376244438, 0.7067995016432365, 0.7080587896148174, 0.7093072105874667, 0.7105449669204628, 0.7117722545842292, 0.7129892634433062, 0.7141961775233342, 0.7153931752631445, 0.7165804297529581, 0.7177581089596223, 0.7189263759397376, 0.7200853890414615, 0.7212353020957188, 0.722376264597492, 0.7235084218778132, 0.7246319152670364, 0.7257468822499265, 0.7268534566130587, 0.7279517685849942, 0.7290419449696585, 0.7301241092733219, 0.731198381825557, 0.7322648798945145, 0.7333237177968469, 0.7343750070025761, 0.7354188562351898, 0.736455371567231, 0.7374846565116231, 0.7385068121089643, 0.7395219370110078, 0.740530127560526]\n"
     ]
    },
    {
     "data": {
      "text/plain": [
       "[<matplotlib.lines.Line2D at 0x29049954fc8>]"
      ]
     },
     "execution_count": 86,
     "metadata": {},
     "output_type": "execute_result"
    },
    {
     "data": {
      "image/png": "[encoded data removed]",
      "text/plain": [
       "<Figure size 432x288 with 1 Axes>"
      ]
     },
     "metadata": {
      "needs_background": "light"
     },
     "output_type": "display_data"
    }
   ],
   "source": [
    "X = []\n",
    "for i in range(1,100):\n",
    "    [d1, d2, delta, gamma, theta, vega, rho, psi] = analytic_greek(100, 100, 0.5+i/10, 0.2, 0.02, 0.0)\n",
    "    X.append(delta)\n",
    "print(X)\n",
    "plt.plot(X)\n"
   ]
  },
  {
   "cell_type": "code",
   "execution_count": null,
   "metadata": {},
   "outputs": [],
   "source": []
  }
 ],
 "metadata": {
  "kernelspec": {
   "display_name": "base",
   "language": "python",
   "name": "python3"
  },
  "language_info": {
   "codemirror_mode": {
    "name": "ipython",
    "version": 3
   },
   "file_extension": ".py",
   "mimetype": "text/x-python",
   "name": "python",
   "nbconvert_exporter": "python",
   "pygments_lexer": "ipython3",
   "version": "3.7.4"
  }
 },
 "nbformat": 4,
 "nbformat_minor": 2
}
