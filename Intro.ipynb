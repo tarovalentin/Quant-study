{
 "cells": [
  {
   "cell_type": "markdown",
   "metadata": {},
   "source": [
    "## Intro to Monte Carlo methods for option pricing"
   ]
  },
  {
   "cell_type": "code",
   "execution_count": 409,
   "metadata": {},
   "outputs": [],
   "source": [
    "# Clear all variables (habit from MATLAB)\n",
    "%reset -f\n",
    "import pandas as pd\n",
    "import matplotlib.pyplot as plt\n",
    "import numpy as np\n",
    "import tensorflow as tf\n",
    "from tensorflow import keras\n",
    "import seaborn as sns\n",
    "import os\n",
    "import time\n",
    "from datetime import datetime\n",
    "from scipy.stats import norm\n",
    "import warnings\n",
    "warnings.filterwarnings(\"ignore\")\n",
    "\n"
   ]
  },
  {
   "cell_type": "markdown",
   "metadata": {},
   "source": [
    "## Essential python/numpy functions and techniques"
   ]
  },
  {
   "cell_type": "markdown",
   "metadata": {},
   "source": [
    "***Essential Numpy Moves***\n",
    "\n",
    "**E1:**\n",
    "\n",
    "Create a 1 000 000‑sample vector of i.i.d. 𝒩(0, 1) numbers. 2. Re‑create it as float32 without an explicit loop."
   ]
  },
  {
   "cell_type": "code",
   "execution_count": 5,
   "metadata": {},
   "outputs": [
    {
     "name": "stdout",
     "output_type": "stream",
     "text": [
      "[[-0.29274736]\n",
      " [ 0.74768368]\n",
      " [ 0.83232078]\n",
      " [ 0.06265928]]\n"
     ]
    }
   ],
   "source": [
    "x64 = np.random.standard_normal((1000000,1)) # produce 1 million \"independent and identically distributed\" (iid) random numbers.\n",
    "print(x64[1:5])\n",
    "x32 = x64.astype(np.float32) # convert to 32 bit float"
   ]
  },
  {
   "cell_type": "markdown",
   "metadata": {},
   "source": [
    "\n",
    "**E2:**\n",
    "\n",
    "Turn a 100 × 100 matrix into a 10 × 10 × 100 “batch cube” where each frontal slice is 10 × 10"
   ]
  },
  {
   "cell_type": "code",
   "execution_count": 6,
   "metadata": {},
   "outputs": [],
   "source": [
    "X = np.random.standard_normal((100,100)) # produce 100 x 100 iid random numbers.\n",
    "Y = X.reshape(10,10,100)"
   ]
  },
  {
   "cell_type": "markdown",
   "metadata": {},
   "source": [
    "**E3**\n",
    "\n",
    "Compute all pairwise dot‑products of 100 random 3‑D vectors with and without a for‑loop."
   ]
  },
  {
   "cell_type": "code",
   "execution_count": 9,
   "metadata": {},
   "outputs": [
    {
     "name": "stdout",
     "output_type": "stream",
     "text": [
      "Execution time difference in for loop vs einsum: 0.039880990982055664 seconds\n"
     ]
    }
   ],
   "source": [
    "N = 100\n",
    "V = np.zeros((N,N), int)\n",
    "\n",
    "# first with a for loop\n",
    "v1 = np.random.randint(1,10,(N,3))\n",
    "start_time_1 = time.time()\n",
    "for i in range(N):\n",
    "    for j in range(N):\n",
    "        V[i,j] = np.dot(v1[i],v1[j].T)\n",
    "end_time_1 = time.time()\n",
    "\n",
    "\n",
    "# now with einsum\n",
    "start_time_2 = time.time()\n",
    "d2 = np.einsum('ik,jk->ij', v1, v1)\n",
    "end_time_2 = time.time()\n",
    "\n",
    "\n",
    "execution_time_1 = end_time_1 - start_time_1\n",
    "execution_time_2 = end_time_2 - start_time_2\n",
    "ex_diff = execution_time_1 - execution_time_2\n",
    "print(f\"Execution time difference in for loop vs einsum: {ex_diff} seconds\")"
   ]
  },
  {
   "cell_type": "markdown",
   "metadata": {},
   "source": [
    "**E3**\n",
    "\n",
    "Compute the product of \n",
    "\n",
    "1) Two matrices\n",
    "2) Matrix with a vector\n",
    "3) Batched matrix multiplication\n",
    "4) Using broadcastring compute the product of a batch of matrices with a single matrix"
   ]
  },
  {
   "cell_type": "code",
   "execution_count": 11,
   "metadata": {},
   "outputs": [
    {
     "name": "stdout",
     "output_type": "stream",
     "text": [
      "[[ True  True]\n",
      " [ True  True]]\n",
      "[[[23 20]\n",
      "  [55 48]]\n",
      "\n",
      " [[43 32]\n",
      "  [59 44]]]\n",
      "[[[ 7 10]\n",
      "  [15 22]]\n",
      "\n",
      " [[23 34]\n",
      "  [31 46]]]\n"
     ]
    }
   ],
   "source": [
    "A = np.array([[1, 2], [3, 4]])\n",
    "B = np.array([[5, 6], [7, 8]])\n",
    "v = np.array([3, 6])\n",
    "\n",
    "C = np.einsum('ij,jk->ik', A, B)  # Matrix multiplication using einsum\n",
    "D = np.matmul(A, B)  # Matrix multiplication using matmul\n",
    "print(C==D) # Check if the results are the same\n",
    "\n",
    "X1 = np.einsum('ij,j -> i', A, v) \n",
    "X2 = np.matmul(A, v)\n",
    "X1-X2 # Check if the results are the same\n",
    "\n",
    "D = np.array([[[1, 2], [3, 4]], [[5, 6], [7, 8]]])\n",
    "E = np.array([[[9, 8], [7, 6]], [[5, 4], [3, 2]]])\n",
    "\n",
    "X3 = np.matmul(D, E)\n",
    "print(X3)\n",
    "\n",
    "F = np.array([[[1, 2], [3, 4]], [[5, 6], [7, 8]]])\n",
    "G = np.array([[1, 2], [3, 4]])\n",
    "\n",
    "result = np.matmul(F, G)\n",
    "print(result)\n"
   ]
  },
  {
   "cell_type": "markdown",
   "metadata": {},
   "source": [
    "**E3**\n",
    "\n",
    "Generate 100 paths of geometric Brownian motion, each with 1000 timesteps, return a vector of pathwise means in one line."
   ]
  },
  {
   "cell_type": "code",
   "execution_count": null,
   "metadata": {},
   "outputs": [
    {
     "data": {
      "text/plain": [
       "[<matplotlib.lines.Line2D at 0x290483baac8>]"
      ]
     },
     "execution_count": 44,
     "metadata": {},
     "output_type": "execute_result"
    },
    {
     "data": {
      "image/png": "[encoded data removed]",
      "text/plain": [
       "<Figure size 432x288 with 1 Axes>"
      ]
     },
     "metadata": {
      "needs_background": "light"
     },
     "output_type": "display_data"
    }
   ],
   "source": [
    "y = np.random.standard_normal((100, 1000)) # produce 100 x 1000 iid random numbers \n",
    "cum_sum = np.cumsum(y, axis=1) # cumulative sum along the second axis\n",
    "mean_cum_sum = np.mean(cum_sum, axis=1) # mean of the cumulative sum along the second axis\n",
    "\n",
    "# ------------------------------------------------------------------------------------------\n",
    "# In  one line\n",
    "y = np.random.default_rng(22).standard_normal((100,1000)).cumsum(1).mean(1)\n",
    "x = range(1,101)\n",
    "plt.plot(x, y, label='Mean of Cumulative Sum', color='blue')"
   ]
  },
  {
   "cell_type": "markdown",
   "metadata": {},
   "source": [
    "## Black–Scholes partial-differential equation "
   ]
  },
  {
   "cell_type": "markdown",
   "metadata": {},
   "source": [
    "\n",
    "\n",
    "Analytically solve the BS equations for a European option.\n",
    "\n",
    "---\n",
    "\n",
    "***The Black–Scholes Model in PDE Form***\n",
    "\n",
    "***Core assumptions***\n",
    "1. **Underlying dynamics** – The (discounted) stock price follows *geometric Brownian motion*  \n",
    "   $$dS_t = (r-q)\\,S_t\\,dt + \\sigma S_t\\,dW_t ,$$\n",
    "   with constant drift $(r-q)$ and volatility $(\\sigma).$\n",
    "2. **No arbitrage & frictionless markets** – You can trade continuously, borrow/lend at the risk-free rate $r$, and short without costs.  \n",
    "3. **European payoff** – The option’s payoff depends only on $S_T$ at a fixed expiry $T$.  \n",
    "\n",
    "***The pricing PDE***\n",
    "Form a self-financing portfolio $\\Pi = V - \\Delta S$ that is *locally risk-free* by choosing $\\Delta = \\frac{\\partial V}{\\partial S}$.  \n",
    "Applying Itô’s lemma to $V(t,S_t)$ and equating the portfolio’s drift to the risk-free rate yields the **Black–Scholes PDE** \n",
    "\n",
    "$$\n",
    "\\boxed{\\;\n",
    "\\frac{\\partial V}{\\partial t} + \\tfrac12\\sigma^{2}S^{2}\\frac{\\partial^{2}V}{\\partial S^{2}}\n",
    "      + (r-q)S\\frac{\\partial V}{\\partial S} \\;-\\; rV \\;=\\; 0\\;}\n",
    "$$\n",
    "\n",
    "with terminal condition $V(T,S) = \\text{payoff}(S)$.  \n",
    "\n",
    "---\n",
    "\n",
    "***3 Closed-Form Solution for a European Call / Put***\n",
    "From wikipedia/book\n",
    "\n",
    "Solving the PDE with payoff $C(T,S)=\\max(S-K,0)$ (call) or $P(T,S)=\\max(K-S,0)$ (put) gives  \n",
    "\n",
    "$$\n",
    "\\begin{aligned}\n",
    "C &= S e^{-qT} N(d_1) - K e^{-rT} N(d_2),\\\\[4pt]\n",
    "P &= K e^{-rT} N(-d_2) - S e^{-qT} N(-d_1),\n",
    "\\end{aligned}\n",
    "$$\n",
    "where  \n",
    "$$\n",
    "d_{1,2} = \\frac{\\ln(S/K) + (r-q \\pm \\tfrac12\\sigma^2)T}{\\sigma\\sqrt{T}},\\qquad\n",
    "N(\\cdot)=\\text{standard normal CDF}.\n",
    "$$\n",
    "and \n",
    "$$\n",
    "N'(x)=\\frac{1}{\\sqrt{2\\pi}}e^{-x^{2}/2}, \\text{ is the standard normal PDF}\n",
    "$$\n",
    "Let us plot the CDF and PDF for the normal distribution different values of $\\mu$ and $\\sigma$ below to gain some intuition"
   ]
  },
  {
   "cell_type": "code",
   "execution_count": null,
   "metadata": {},
   "outputs": [
    {
     "data": {
      "text/plain": [
       "<matplotlib.legend.Legend at 0x2904e62d308>"
      ]
     },
     "execution_count": 296,
     "metadata": {},
     "output_type": "execute_result"
    },
    {
     "data": {
      "image/png": "[encoded data removed]",
      "text/plain": [
       "<Figure size 432x288 with 1 Axes>"
      ]
     },
     "metadata": {
      "needs_background": "light"
     },
     "output_type": "display_data"
    },
    {
     "data": {
      "image/png": "[encoded data removed]",
      "text/plain": [
       "<Figure size 432x288 with 1 Axes>"
      ]
     },
     "metadata": {
      "needs_background": "light"
     },
     "output_type": "display_data"
    }
   ],
   "source": [
    "y = np.random.standard_normal((100, 1))\n",
    "x = np.arange(-4, 4, 0.01)\n",
    "plt.figure()\n",
    "plt.plot(x,norm.cdf(x), label='CDF', color='red') # CDF of standard normal distribution with mean=0 and std=1\n",
    "plt.plot(x, norm.pdf(x), label='PDF', color='blue')\n",
    "plt.legend()\n",
    "\n",
    "plt.figure()\n",
    "plt.plot(x,norm.cdf(x,0,0.5), label='PDF $\\mu=0$, $\\sigma=0.5$',color='red') # PDF of normal distribution with mean=0 and std=0.1\n",
    "plt.plot(x,norm.pdf(x,0,0.5), label='CDF $\\mu=0$, $\\sigma=0.5$',color='blue') # CDF of normal distribution with mean=0 and std=0.1\n",
    "plt.legend()"
   ]
  },
  {
   "cell_type": "markdown",
   "metadata": {},
   "source": [
    "**Greeks: Formulas, Units, and Intuition**\n",
    "\n",
    "| Greek | Definition | Closed-form (call) | Units | Practical meaning |\n",
    "|-------|-------------|--------------------|-------|-------------------|\n",
    "| **Delta** $\\displaystyle \\Delta = \\frac{\\partial V}{\\partial S}$ | Sensitivity to an *infinitesimal* change in spot price | $\\displaystyle e^{-qT}N(d_1)$ | dimensionless | **Hedge ratio** – hold $\\Delta$ shares per option to neutralise first-order price moves. |\n",
    "| **Gamma** $\\displaystyle \\Gamma = \\frac{\\partial^{2} V}{\\partial S^{2}}$ | Curvature of price vs. spot | $\\displaystyle \\frac{e^{-qT}N'(d_1)}{S\\sigma\\sqrt{T}}$ | 1/price | Measures how *Delta* changes as $S$ moves; large near-ATM, short-dated.  Drives *convexity* benefits and risk of delta-hedging error. |\n",
    "| **Vega** $\\displaystyle \\nu = \\frac{\\partial V}{\\partial \\sigma}$ | Volatility sensitivity | $\\displaystyle S e^{-qT} N'(d_1)\\sqrt{T}$ | price per vol-point | How much the option’s value moves per 1 % absolute change in σ.  Central for volatility trading. |\n",
    "| **Theta** $\\displaystyle \\Theta = -\\frac{\\partial V}{\\partial T}$ | Time-decay (negative for long calls/puts) | $\\displaystyle -\\frac{S e^{-qT} N'(d_1)\\sigma}{2\\sqrt{T}} - r K e^{-rT} N(d_2) + q S e^{-qT} N(d_1)$ | price / year | P/L from *letting the clock tick*.  Think of it as the “rent you pay” to be long optionality. |\n",
    "| **Rho** $\\displaystyle \\rho = \\frac{\\partial V}{\\partial r}$ | Risk-free rate sensitivity | $\\displaystyle K T e^{-rT} N(d_2)$ | price / rate-pt | Gain/loss if the term structure shifts; opposite sign for puts. |\n",
    "| **Psi** $\\displaystyle \\psi = \\frac{\\partial V}{\\partial q}$ (“dividend-rho”) | Dividend-yield sensitivity | $-S T e^{-qT} N(d_1)$ | price / yield-pt | Relevant for equity indexes with known dividend yield. |\n",
    "---\n",
    "\n",
    "***Greeks in Risk Management & Trading***\n",
    "\n",
    "| Greek | Typical hedging instrument | Why it matters day-to-day |\n",
    "|-------|---------------------------|---------------------------|\n",
    "| Delta | Underlying shares / futures | Neutralise directional exposure. |\n",
    "| Gamma | Additional options (usually shorter-dated) | Manage the *rate* at which delta changes; high gamma means you must rebalance frequently. |\n",
    "| Vega  | Options at different strikes/expiries, variance swaps | Express pure volatility views (“vol trading”). |\n",
    "| Theta | Carry budget / financing | Determines expected daily bleed; options desks quote “theta-dollars” per night. |\n",
    "| Rho   | Bond futures / swaps | Small for equities but important in FX and rates options. |"
   ]
  },
  {
   "cell_type": "code",
   "execution_count": 410,
   "metadata": {},
   "outputs": [],
   "source": [
    "# Second iteration of the code that used the \"sign\" for the option type (in the first iteration I had two different calculations for call and put options)\n",
    "def analytic_greek(S, K, T, sigma, r=0.0, q=0.0,  option_type: str = \"call\"):\n",
    "    F = S*np.exp(-q * T)\n",
    "    B = K*np.exp(-r * T)\n",
    "    sqrtT  = np.sqrt(T)\n",
    "    d1 = (np.log(S / K) + (r - q + 0.5 * sigma ** 2) * T) / (sigma * np.sqrt(T))\n",
    "    d2 = (d1 - sigma * np.sqrt(T))\n",
    "\n",
    "    if option_type == \"call\":\n",
    "        sign = 1\n",
    "    else:\n",
    "        sign = -1\n",
    "\n",
    "    N1 = norm.cdf(sign*d1)\n",
    "    N2 = norm.cdf(sign*d2)\n",
    "    N1_prime = norm.pdf(d1)\n",
    "    price = sign*(F*N1 - B*N2)\n",
    "    delta = sign*np.exp(-q * T) * N1\n",
    "    gamma = np.exp(-q * T) * N1_prime / (S * sigma * sqrtT)\n",
    "    vega  = S * np.exp(-q * T) * N1_prime * sqrtT\n",
    "    theta = sign*(-0.5 * S * np.exp(-q * T) * N1_prime * sigma / sqrtT +\n",
    "            +q * F * N1 - r * B * N2)\n",
    "    rho   = sign*np.exp(-r * T) * K * T * N2\n",
    "\n",
    "    return price, d1, d2, delta, gamma, theta, vega, rho"
   ]
  },
  {
   "cell_type": "code",
   "execution_count": 6,
   "metadata": {},
   "outputs": [
    {
     "data": {
      "text/plain": [
       "array([ True,  True,  True,  True,  True,  True,  True,  True])"
      ]
     },
     "execution_count": 6,
     "metadata": {},
     "output_type": "execute_result"
    }
   ],
   "source": [
    "def check_analytic_greek():\n",
    "    # Test the analytic_greek function for known case\n",
    "    X = analytic_greek(100, 95, 0.75, 0.24, 0.03, 0.01,\"call\")\n",
    "    return np.isclose(X,[11.534305993009554, 0.4228768097884608, 0.21503071288019557, 0.6588474956611785, 0.017421264426114427, -5.988989966253025, 31.358275967005966, 40.76283267983122])\n",
    "check_analytic_greek()"
   ]
  },
  {
   "cell_type": "markdown",
   "metadata": {},
   "source": [
    "***Intuition***\n",
    "\n",
    "To gain a bit of intution for how the various parameters influence the price of the options, we will plot them below and vary each of the input parameters one by one"
   ]
  },
  {
   "cell_type": "code",
   "execution_count": 457,
   "metadata": {},
   "outputs": [
    {
     "data": {
      "text/plain": [
       "<matplotlib.legend.Legend at 0x205823d3048>"
      ]
     },
     "execution_count": 457,
     "metadata": {},
     "output_type": "execute_result"
    },
    {
     "data": {
      "image/png": "[encoded data removed]",
      "text/plain": [
       "<Figure size 432x288 with 1 Axes>"
      ]
     },
     "metadata": {
      "needs_background": "light"
     },
     "output_type": "display_data"
    },
    {
     "data": {
      "image/png": "[encoded data removed]",
      "text/plain": [
       "<Figure size 432x288 with 1 Axes>"
      ]
     },
     "metadata": {
      "needs_background": "light"
     },
     "output_type": "display_data"
    },
    {
     "data": {
      "image/png": "[encoded data removed]",
      "text/plain": [
       "<Figure size 432x288 with 1 Axes>"
      ]
     },
     "metadata": {
      "needs_background": "light"
     },
     "output_type": "display_data"
    },
    {
     "data": {
      "image/png": "[encoded data removed]",
      "text/plain": [
       "<Figure size 432x288 with 1 Axes>"
      ]
     },
     "metadata": {
      "needs_background": "light"
     },
     "output_type": "display_data"
    },
    {
     "data": {
      "image/png": "[encoded data removed]",
      "text/plain": [
       "<Figure size 432x288 with 1 Axes>"
      ]
     },
     "metadata": {
      "needs_background": "light"
     },
     "output_type": "display_data"
    },
    {
     "data": {
      "image/png": "[encoded data removed]",
      "text/plain": [
       "<Figure size 432x288 with 1 Axes>"
      ]
     },
     "metadata": {
      "needs_background": "light"
     },
     "output_type": "display_data"
    }
   ],
   "source": [
    "price1 = []\n",
    "price2 = [] \n",
    "price3 = []\n",
    "price4 = []\n",
    "price5 = []\n",
    "price6 = []\n",
    "for i in range(1, 10):\n",
    "    price1.append(analytic_greek(100+i*10, 95, 0.75, 0.24, 0.03, 0.01,\"call\")[0])\n",
    "    price2.append(analytic_greek(100, 95+i*10, 0.75, 0.24, 0.03, 0.01,\"call\")[0])\n",
    "    price3.append(analytic_greek(100, 95, 0.75+i*0.1, 0.24, 0.03, 0.01,\"call\")[0])\n",
    "    price4.append(analytic_greek(100, 95, 0.75, 0.24+i*0.02, 0.03, 0.01,\"call\")[0])\n",
    "    price5.append(analytic_greek(100, 95, 0.75, 0.24, 0.03+i*0.01, 0.01,\"call\")[0])\n",
    "    price6.append(analytic_greek(100, 95, 0.75, 0.24, 0.03, 0.01+i*0.01,\"call\")[0])\n",
    "plot1 = plt.figure()\n",
    "plt.plot(range(110,200,10),price1, label='Option price vs stock price, with \\n$K = 95$, $T=0.75$, $\\sigma=0.24$, $q=0.03$, $r=0.01$', color='red')\n",
    "plt.xlabel('S')\n",
    "plt.ylabel('Price')\n",
    "plt.legend()\n",
    "plot2 = plt.figure()\n",
    "plt.plot(np.arange(105,105+10*9,10),price2, label='Option price vs strike price, with \\n$S = 100$, $T=0.75$, $\\sigma=0.24$, $q=0.03$, $r=0.01$', color='blue')\n",
    "plt.xlabel('K')\n",
    "plt.ylabel('Price')\n",
    "plt.legend()\n",
    "plot3 = plt.figure()\n",
    "plt.plot(np.arange(0.85,0.85+0.1*9,0.1),price3, label='Option price vs time to maturity, with \\n$S = 100$, $K=95$, $\\sigma=0.24$, $q=0.03$, $r=0.01$', color='blue')\n",
    "plt.xlabel('T')\n",
    "plt.ylabel('Price')\n",
    "plt.legend()\n",
    "plot4 = plt.figure()\n",
    "plt.plot(np.arange(0.24,0.24+0.02*9,0.02),price4, label='Option price vs volatility $\\sigma$, with \\n $S = 100$, $K=95$, $T=0.75$, $q=0.03$, $r=0.01$', color='blue')\n",
    "plt.xlabel('$\\sigma$')\n",
    "plt.ylabel('Price')\n",
    "plt.legend()\n",
    "plot5 = plt.figure()\n",
    "plt.plot(np.arange(0.03,0.03+0.01*9,0.01),price5, label='Option price vs $q$, with \\n $S = 100$, $K=95$, $T=0.75$, $\\sigma=0.24$, $r=0.01$', color='blue')\n",
    "plt.xlabel('r')\n",
    "plt.ylabel('Price')\n",
    "plt.legend()\n",
    "plot6 = plt.figure()\n",
    "plt.plot(np.arange(0.01,0.01+0.01*9,0.01),price6, label='Option price vs $r$, with \\n $S = 100$, $K=95$, $T=0.75$, $\\sigma=0.24$, $q=0.03$', color='blue')\n",
    "plt.xlabel('q')\n",
    "plt.ylabel('Price')\n",
    "plt.legend()"
   ]
  },
  {
   "cell_type": "markdown",
   "metadata": {},
   "source": [
    "## Monte carlo of European and Asian options\n"
   ]
  },
  {
   "cell_type": "markdown",
   "metadata": {},
   "source": [
    "\n",
    "**European options** can be exercised on their experiation date. We simulate the pricepath by iteratively updating the price by $S_{i}=S_{i-1}e^{(r-q-\\frac{1}{2}\\sigma^2)\\text{d}t+\\sigma \\sqrt{\\text{d}t}Z_i}$, with Z being Monte Carlo generated numbers.\n",
    "\n",
    "For Asian (european) options the final price is given as an average over some pre-disclosed time interval. If there is only one timestep, this will be equal to the European option.\n",
    "\n",
    "American options can be exercised at any point. For the american option there is no closed form solution"
   ]
  },
  {
   "cell_type": "code",
   "execution_count": 367,
   "metadata": {},
   "outputs": [],
   "source": [
    "def mc_euro(S0, K, T, sigma, r=0.0, q=0.0, option_type: str = \"call\", npaths=10000, nsteps=1000):\n",
    "    dt = T / nsteps\n",
    "    S = np.zeros((npaths, nsteps + 1))\n",
    "    S[:, 0] = S0\n",
    "    for i in range(1, nsteps + 1):\n",
    "        Z = np.random.standard_normal(npaths)  # standard normal random variables\n",
    "        S[:,i] = S[:, i - 1]*np.exp((r - q - 0.5 * sigma ** 2) * dt + sigma * np.sqrt(dt) * Z)\n",
    "    if option_type == \"call\":\n",
    "        price = np.exp(-r * T) * np.mean(np.maximum(S[:, -1] - K, 0))\n",
    "        err = np.exp(-r * T) * np.std(np.maximum(S[:, -1] - K, 0)) / np.sqrt(npaths)\n",
    "    elif option_type == \"put\":\n",
    "        price = np.exp(-r * T) * np.mean(np.maximum(K - S[:, -1], 0))\n",
    "        err = np.exp(-r * T) * np.std(np.maximum(K - S[:, -1], 0)) / np.sqrt(npaths)\n",
    "    return price, err"
   ]
  },
  {
   "cell_type": "markdown",
   "metadata": {},
   "source": [
    "***Checks***\n",
    "\n",
    "Let us check the accuracy compared to the analytic solution and how it changes as N changes:"
   ]
  },
  {
   "cell_type": "code",
   "execution_count": 17,
   "metadata": {},
   "outputs": [
    {
     "data": {
      "text/plain": [
       "([<matplotlib.lines.Line2D at 0x26c02631d08>],\n",
       " [1.8632217301042777,\n",
       "  0.43289368845146203,\n",
       "  0.17649723536118866,\n",
       "  0.09586271621154818,\n",
       "  0])"
      ]
     },
     "execution_count": 17,
     "metadata": {},
     "output_type": "execute_result"
    },
    {
     "data": {
      "image/png": "[encoded data removed]",
      "text/plain": [
       "<Figure size 432x288 with 1 Axes>"
      ]
     },
     "metadata": {
      "needs_background": "light"
     },
     "output_type": "display_data"
    }
   ],
   "source": [
    "def check_mc(S,K,T,sigma,r,q):\n",
    "    Y = analytic_greek(S,K,T,sigma,r,q,\"call\")\n",
    "    dif = [0,0,0,0,0]\n",
    "    for i in range(2, 6):\n",
    "        X = mc_euro(S,K,T,sigma,r,q, \"call\" , 10**(i), 1000)\n",
    "        dif[i-2] = np.abs(X[0] - Y[0])\n",
    "    plt.figure()\n",
    "    out = plt.plot(['$10^2$','$10^3$','$10^4$','$10^5$','$10^6$'], dif)\n",
    "    plt.ylabel('|Analytic-Monte-carlo|')\n",
    "    return out, dif\n",
    "check_mc(100, 105, 0.75, 0.24, 0.03, 0.01)"
   ]
  },
  {
   "cell_type": "markdown",
   "metadata": {},
   "source": [
    "The plot above should go to 0 as $N\\to\\infty$"
   ]
  },
  {
   "cell_type": "markdown",
   "metadata": {},
   "source": [
    "***Asian options***\n",
    "\n",
    "Lets now do a MC of asian options. This is similar to the European option, but in the end we take the mean over the values of S during the path, to set the price"
   ]
  },
  {
   "cell_type": "code",
   "execution_count": 358,
   "metadata": {},
   "outputs": [],
   "source": [
    "def mc_asian(S0,K,T,sigma,r,q,option_type: str = \"call\", npaths=10000, nsteps=1000):\n",
    "    dt = T/nsteps\n",
    "    S = np.zeros((npaths, nsteps + 1))\n",
    "    S[:, 0] = S0\n",
    "    for i in range(1, nsteps + 1):\n",
    "        Z = np.random.standard_normal(npaths)  # standard normal random variables\n",
    "        S[:,i] = S[:, i - 1]*np.exp((r - q - 0.5 * sigma ** 2) * dt + sigma * np.sqrt(dt) * Z)\n",
    "    S_mean = np.mean(S[:, 1:], axis=1)  # mean of the paths\n",
    "    if option_type == \"call\":\n",
    "        price = np.exp(-r * T) * np.mean(np.maximum(S_mean - K, 0))\n",
    "        err = np.exp(-r * T) * np.std(np.maximum(S_mean - K, 0)) / np.sqrt(npaths)\n",
    "    elif option_type == \"put\":\n",
    "        price = np.exp(-r * T) * np.mean(np.maximum(K - S_mean, 0))\n",
    "        err = np.exp(-r * T) * np.std(np.maximum(K - S_mean, 0)) / np.sqrt(npaths)\n",
    "    return price"
   ]
  },
  {
   "cell_type": "code",
   "execution_count": 364,
   "metadata": {},
   "outputs": [
    {
     "data": {
      "text/plain": [
       "3.0744791001245564"
      ]
     },
     "execution_count": 364,
     "metadata": {},
     "output_type": "execute_result"
    }
   ],
   "source": [
    "mc_asian(100, 105, 0.75, 0.24, 0.03, 0.01,\"call\", npaths=10000, nsteps=1000)"
   ]
  },
  {
   "cell_type": "markdown",
   "metadata": {},
   "source": [
    "Let us test that this is equal to the European options when taking nsteps = 1 (i.e. ending the Monte Carlo paths immediatly, so the average is the same as the final value)"
   ]
  },
  {
   "cell_type": "code",
   "execution_count": 374,
   "metadata": {},
   "outputs": [
    {
     "name": "stdout",
     "output_type": "stream",
     "text": [
      "Test if Asian mc is close to Euro mc:  True\n",
      "Test if Asian mc is close to Euro analytic:  True\n",
      "Asian mc price:  6.747275842146164\n",
      "Euro mc price:  6.767607887475131\n",
      "Euro analytic price:  6.760519238235446\n"
     ]
    }
   ],
   "source": [
    "\n",
    "def test_regression_to_euro(S,K,T,sigma,r,q,option_type: str = \"call\", npaths=10000):\n",
    "    nsteps=1\n",
    "    X = mc_asian(S, K, T, sigma, r ,q ,\"call\", npaths, nsteps)\n",
    "    Y = mc_euro(S, K, T, sigma, r, q, \"call\", npaths, nsteps)\n",
    "    Z = analytic_greek(S, K, T, sigma, r, q, \"call\")\n",
    "    return np.isclose(X,Y[0],10**(-2)),np.isclose(X,Z[0],10**(-2)), X, Y[0], Z[0]\n",
    "    \n",
    "out = test_regression_to_euro(100, 105, 0.75, 0.24, 0.03, 0.01,\"call\", npaths=1000000)\n",
    "print(\"Test if Asian mc is close to Euro mc: \", out[0])\n",
    "print(\"Test if Asian mc is close to Euro analytic: \", out[1])\n",
    "print(\"Asian mc price: \", out[2])\n",
    "print(\"Euro mc price: \", out[3])\n",
    "print(\"Euro analytic price: \", out[4])"
   ]
  },
  {
   "cell_type": "markdown",
   "metadata": {},
   "source": [
    "## American options"
   ]
  },
  {
   "cell_type": "markdown",
   "metadata": {},
   "source": [
    "For the american options things get more complicated since we can exercise early. First let us do the \"simplest\" thing and just do Monte Carlo and just simulate the paths and find the average price that givs the highest pay-off. This will give an \"upper bound\" on the price."
   ]
  },
  {
   "cell_type": "code",
   "execution_count": 458,
   "metadata": {},
   "outputs": [
    {
     "data": {
      "text/plain": [
       "(12.90106253980661, 0.14691889059074761)"
      ]
     },
     "execution_count": 458,
     "metadata": {},
     "output_type": "execute_result"
    }
   ],
   "source": [
    "def mc_american_simple(S0, K, T, sigma, r=0.0, q=0.0, option_type: str = \"put\", npaths = 10000, nsteps = 100):\n",
    "    # First we simulate the paths, using the same method as in mc_euro.\n",
    "    dt    = T / nsteps\n",
    "    drift = (r - q - 0.5 * sigma**2) * dt\n",
    "    diff  = sigma * np.sqrt(dt)\n",
    "\n",
    "    S = np.empty((npaths, nsteps + 1))\n",
    "    S[:, 0] = S0\n",
    "    for t in range(1, nsteps + 1):\n",
    "        Z = np.random.standard_normal(npaths)\n",
    "        S[:, t] = S[:, t-1] * np.exp(drift + diff * Z)\n",
    "\n",
    "    if option_type == \"call\":\n",
    "        price = np.maximum(S - K, 0.0)\n",
    "    elif option_type == \"put\":\n",
    "        price = np.maximum(K - S, 0.0)\n",
    "\n",
    "    disc_vec = np.exp(-r * dt * np.arange(nsteps + 1))\n",
    "    discounted = price * disc_vec \n",
    "\n",
    "    payoff_path = discounted.max(axis=1) \n",
    "    price  = payoff_path.mean()\n",
    "    stderr = payoff_path.std(ddof=1) / np.sqrt(npaths)\n",
    "    return price, stderr, \n",
    "\n",
    "mc_american_simple(100, 105, 0.75, 0.24, 0.03, 0.01,\"call\", npaths=10000, nsteps=100)"
   ]
  },
  {
   "cell_type": "markdown",
   "metadata": {},
   "source": [
    "**LS monte carlo for american options**\n",
    "\n",
    "Let us now consider two different algorithms for pricing options. The first one is the Schwartz-Longstaff algorithm (https://people.math.ethz.ch/%7Ehjfurrer/teaching/LongstaffSchwartzAmericanOptionsLeastSquareMonteCarlo.pdf)\n",
    "\n",
    "Here we do the normal monte carlo path, but we determine a stopping condition from a linear regression that we propagate backwards at each step in the path"
   ]
  },
  {
   "cell_type": "code",
   "execution_count": 587,
   "metadata": {},
   "outputs": [],
   "source": [
    "def mc_american(S0, K, T, sigma, r=0.0, q=0.0, option_type: str = \"call\", npaths = 10000, nsteps = 100):\n",
    "    dt    = T / nsteps\n",
    "    drift = (r - q - 0.5 * sigma**2) * dt\n",
    "    diff  = sigma * np.sqrt(dt)\n",
    "\n",
    "    S = np.empty((npaths, nsteps + 1))\n",
    "    S[:, 0] = S0\n",
    "    for t in range(1, nsteps + 1):\n",
    "        Z = np.random.standard_normal(npaths)\n",
    "        S[:, t] = S[:, t-1] * np.exp(drift + diff * Z)\n",
    "\n",
    "    if option_type.lower() == \"call\":\n",
    "        def h(s):\n",
    "            return np.maximum(s - K, 0.0)\n",
    "    elif option_type.lower() == \"put\":\n",
    "        def h(s):\n",
    "            return np.maximum(K - s, 0.0)\n",
    "\n",
    "    # Longstaff–Schwartz backward loop\n",
    "\n",
    "    disc = np.exp(-r * dt)            \n",
    "    cash = h(S[:, -1])    \n",
    " \n",
    "    for t in range(nsteps - 1, 0, -1):\n",
    "        cash *= disc                     \n",
    "\n",
    "        itm = h(S[:, t]) > 0    \n",
    "        if not itm.any():\n",
    "            continue\n",
    "\n",
    "        X = S[itm, t]         \n",
    "        Y = cash[itm]                     \n",
    "\n",
    "        # Perform regression using least squared fit on X and Y with basis 1, S, S²\n",
    "        A = np.column_stack((np.ones_like(X),  X, X**2))\n",
    "        beta, *_ = np.linalg.lstsq(A, Y)\n",
    "        # continuation value by evaluating on the regression coefficients\n",
    "        continuation = A @ beta \n",
    "\n",
    "        exercise = h(X) > continuation\n",
    "        idx      = np.where(itm)[0]\n",
    "        cash[idx[exercise]] = h(X[exercise])\n",
    "\n",
    "    price  = disc * cash.mean()\n",
    "    return price"
   ]
  },
  {
   "cell_type": "markdown",
   "metadata": {},
   "source": [
    "**Check**\n",
    "\n",
    "Let us check that the new mc alogrithm is less than the previous one (the simple algorithm we wrote is an \"upper bound\")"
   ]
  },
  {
   "cell_type": "code",
   "execution_count": 583,
   "metadata": {},
   "outputs": [
    {
     "name": "stdout",
     "output_type": "stream",
     "text": [
      "American mc price:  6.8402841287091745 is less than the upper bound 13.055980940861925\n"
     ]
    }
   ],
   "source": [
    "A1 = mc_american_simple(100, 105, 0.75, 0.24, 0.03, 0.01,\"call\", npaths=10000, nsteps=100)\n",
    "A2 = mc_american(100, 105, 0.75, 0.24, 0.03, 0.01,\"call\", npaths=10000, nsteps=100)[0]\n",
    "print(\"American mc price: \", A2, \"is less than the upper bound\", A1[0])"
   ]
  },
  {
   "cell_type": "markdown",
   "metadata": {},
   "source": [
    "***Binomial tree***\n",
    "\n",
    "Now let's do this using a binomial tree. This is a technique used to value options by simulating possible paths the underlying asset's price could take over the option's life. Here we assume the price of the underlying asset can only move up or down by a certain amount in each time, creating a binomial tree of possible price movements.\n",
    "\n",
    "Before we code it up, let us look at a simple 2 timestep example for an american put. We take the following input values:\n",
    "\n",
    "| Parameter           | Value                                 |\n",
    "| ------------------- | ------------------------------------- |\n",
    "| Spot $S_0$          | **\\$100**                             |\n",
    "| Strike $K$          | **\\$105**                             |\n",
    "| Maturity $T$        | **0.25 yr** (= 3 months)              |\n",
    "| Volatility $\\sigma$ | **30 %** p.a.                         |\n",
    "| Risk-free rate $r$  | **5 %** p.a.                          |\n",
    "| Dividend yield $q$  | 0                                     |\n",
    "| Steps $N$           | **2** (so only three layers: 0, 1, 2) |\n",
    "\n",
    "\n",
    "\n",
    "The binomial tree then has the following parameters, taken from \"Option pricing: A simplified approach\" by John C. Cox, Stephen A. Ross, and Mark Rubinstein: https://www.sciencedirect.com/science/article/pii/0304405X79900151\n",
    "\n",
    "$$\n",
    "\\begin{aligned}\n",
    "\\Delta t &= T/N = 0.25/2 = 0.125,\\\\[2pt]\n",
    "u &= e^{\\sigma\\sqrt{\\Delta t}}\n",
    "   = e^{0.30\\sqrt{0.125}}\\approx 1.1118,\\\\\n",
    "d &= 1/u \\approx 0.8993,\\\\\n",
    "p &= \\frac{e^{(r-q)\\Delta t}-d}{u-d}\n",
    "   =\\frac{e^{0.05\\cdot0.125}-0.8993}{1.1118-0.8993}\n",
    "   \\approx 0.503,\\\\\n",
    "\\text{disc} &= e^{-r\\Delta t}=e^{-0.05\\cdot0.125}=0.99377 .\n",
    "\\end{aligned}\n",
    "$$\n",
    "\n",
    "Then at each step we calculate all the possible up and down values according to $S_{i,j} = S_0 u^{\\,i-j} d^{\\,j}$\n",
    "\n",
    "| Time  | Node          | Stock price        |\n",
    "| ----- | ------------- | ------------------ |\n",
    "| $t_0$ | (0,0)         | **100.00**         |\n",
    "| $t_1$ | up (1,0)      | 111.18<br>($100u$) |\n",
    "|       | down (1,1)    | 89.93<br>($100d$)  |\n",
    "| $t_2$ | uu (2,0)      | 123.97             |\n",
    "|       | ud / du (2,1) | 100.00             |\n",
    "|       | dd (2,2)      | 80.94              |\n",
    "\n",
    "\n",
    "We then take the terminal intrinsic pay-offs for a put $h(S)=\\max(K-S,0)$ and calculate it at the final step:\n",
    "\n",
    "| Node  | $S$    | $h(S)$    |\n",
    "| ----- | ------ | --------- |\n",
    "| uu    | 123.97 | 0         |\n",
    "| ud/du | 100.00 | **5.00**  |\n",
    "| dd    | 80.94  | **24.06** |\n",
    "\n",
    "we then do the same for the previous step\n",
    "\n",
    "| Node     | $S$    | Continuation $C=\\,\\text{disc}\\,[pV_\\text{up}+(1-p)V_\\text{down}]$ | Intrinsic $h$ | $V_{1,all}$                    |\n",
    "| -------- | ------ | ----------------------------------------------------------------- | ------------- | ---------------------------- |\n",
    "| **up**   | 111.18 | $0.99377\\,(0.503\\cdot0 + 0.497\\cdot5)=2.47$                       | 0             | **2.47**                     |\n",
    "| **down** | 89.93  | $0.99377\\,(0.503\\cdot5 + 0.497\\cdot24.06)=14.37$                  | 15.07         | **15.07** *(early exercise)* |\n",
    "\n",
    "and finally for the initial step\n",
    "\n",
    "$$\n",
    "\\begin{aligned}\n",
    "C_0 &= 0.99377\\bigl(0.503\\cdot2.47 + 0.497\\cdot15.07\\bigr)=8.68,\\\\\n",
    "h_0 &= 105-100 = 5.00,\\\\\n",
    "V_0 &= \\max(5.00,\\;8.68)=8.68.\n",
    "\\end{aligned}\n",
    "$$\n",
    "\n",
    "So the two-step American put price is \\$8.68.\n",
    "\n",
    "Let us implement this now below\n"
   ]
  },
  {
   "cell_type": "code",
   "execution_count": 584,
   "metadata": {},
   "outputs": [],
   "source": [
    "def binomial_american(S0,K,T,sigma,r=0,q=0,option_type=\"put\",N=400):\n",
    "    dt   = T/N\n",
    "    u    = np.exp(sigma*np.sqrt(dt))\n",
    "    d    = 1/u\n",
    "    p    = (np.exp((r-q)*dt) - d) / (u - d)\n",
    "    disc = np.exp(-r*dt)\n",
    "\n",
    "    # terminal prices & pay-offs\n",
    "    j = np.arange(N+1)\n",
    "    S = S0 * u**(N-j) * d**j\n",
    "    if option_type==\"call\":\n",
    "        V = np.maximum(S-K,0)\n",
    "    else:\n",
    "        V = np.maximum(K-S,0)\n",
    "\n",
    "    # backward induction\n",
    "    for i in range(N-1,-1,-1):\n",
    "        S = S0 * u**(i-j[:i+1]) * d**j[:i+1]   # prices at layer i\n",
    "        V = disc*(p*V[:-1] + (1-p)*V[1:])      # continuation\n",
    "        V = np.maximum(V,\n",
    "                       np.maximum(S-K,0) if option_type==\"call\"\n",
    "                       else np.maximum(K-S,0))\n",
    "    return V[0]\n"
   ]
  },
  {
   "cell_type": "markdown",
   "metadata": {},
   "source": [
    "***Checks***\n",
    "\n",
    "To check this we first compare it to the monte carlo solution and see how they should approach each other as the number of steps for MC goes to\n",
    "$\\infty$"
   ]
  },
  {
   "cell_type": "code",
   "execution_count": 595,
   "metadata": {},
   "outputs": [
    {
     "data": {
      "text/plain": [
       "<Figure size 432x288 with 0 Axes>"
      ]
     },
     "execution_count": 595,
     "metadata": {},
     "output_type": "execute_result"
    },
    {
     "data": {
      "image/png": "[encoded data removed]",
      "text/plain": [
       "<Figure size 432x288 with 1 Axes>"
      ]
     },
     "metadata": {
      "needs_background": "light"
     },
     "output_type": "display_data"
    },
    {
     "data": {
      "text/plain": [
       "<Figure size 432x288 with 0 Axes>"
      ]
     },
     "metadata": {},
     "output_type": "display_data"
    }
   ],
   "source": [
    "A2 = binomial_american(100, 105, 0.75, 0.24, 0.03, 0.01, \"call\", N=1000)\n",
    "Y = []\n",
    "er = []\n",
    "Nend = 10\n",
    "X = range(2, Nend)\n",
    "for i in range(2, Nend):\n",
    "    A1 = mc_american(100, 105, 0.75, 0.24, 0.03, 0.01, \"call\", npaths=int(10**(0.5*i)), nsteps=100)\n",
    "    Y.append(np.abs(A1-A2))\n",
    "\n",
    "plt.plot(X,Y)\n",
    "plt.xlabel('Number of paths')\n",
    "plt.ylabel('MC - Binomial')\n",
    "plt.title('Convergence of MC to Binomial')\n",
    "plt.figure()\n"
   ]
  },
  {
   "cell_type": "markdown",
   "metadata": {},
   "source": [
    "Another check is that for $q=0$ the call option prices of european and american options should be the same, so let us check that they match"
   ]
  },
  {
   "cell_type": "code",
   "execution_count": null,
   "metadata": {},
   "outputs": [
    {
     "name": "stdout",
     "output_type": "stream",
     "text": [
      "European call (analytic) : 10.450584\n",
      "American  call (tree)   : 10.450384\n",
      "Abs diff                : 1.999693e-04\n",
      "Threshold               : 2.000000e-04\n",
      "PASS  (call prices match within 0.0002\n"
     ]
    }
   ],
   "source": [
    "\n",
    "N = 10000\n",
    "am_call = binomial_american(100, 100, 1.0, 0.2, 0.05, 0.0,\"call\", N)\n",
    "eu_call = analytic_greek(100, 100, 1.0, 0.2, 0.05, 0.0)[0]\n",
    "diff_call = abs(am_call - eu_call)\n",
    "errpass = 2/N\n",
    "\n",
    "print(f\"European call (analytic) : {eu_call:.6f}\")\n",
    "print(f\"American  call (tree)   : {am_call:.6f}\")\n",
    "print(f\"Abs diff                : {diff_call:.6e}\") \n",
    "print(f\"Threshold               : {errpass:.6e}\")\n",
    "\n",
    "if diff_call < errpass:\n",
    "    print(\"PASS  (call prices match within\", errpass)\n",
    "else:\n",
    "    print(\"FAIL  (call prices not within\", errpass)"
   ]
  },
  {
   "cell_type": "code",
   "execution_count": null,
   "metadata": {},
   "outputs": [],
   "source": []
  }
 ],
 "metadata": {
  "kernelspec": {
   "display_name": "base",
   "language": "python",
   "name": "python3"
  },
  "language_info": {
   "codemirror_mode": {
    "name": "ipython",
    "version": 3
   },
   "file_extension": ".py",
   "mimetype": "text/x-python",
   "name": "python",
   "nbconvert_exporter": "python",
   "pygments_lexer": "ipython3",
   "version": "3.7.4"
  }
 },
 "nbformat": 4,
 "nbformat_minor": 2
}
