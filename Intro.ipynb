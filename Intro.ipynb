{
 "cells": [
  {
   "cell_type": "code",
   "execution_count": 2,
   "metadata": {},
   "outputs": [
    {
     "name": "stderr",
     "output_type": "stream",
     "text": [
      "c:\\ProgramData\\Anaconda3\\lib\\site-packages\\statsmodels\\tools\\_testing.py:19: FutureWarning: pandas.util.testing is deprecated. Use the functions in the public API at pandas.testing instead.\n",
      "  import pandas.util.testing as tm\n"
     ]
    }
   ],
   "source": [
    "# Clear all variables\n",
    "%reset -f\n",
    "import pandas as pd\n",
    "import matplotlib.pyplot as plt\n",
    "import numpy as np\n",
    "import tensorflow as tf\n",
    "from tensorflow import keras\n",
    "import seaborn as sns\n",
    "import os\n",
    "import time\n",
    "from datetime import datetime\n",
    "\n",
    "import warnings\n",
    "warnings.filterwarnings(\"ignore\")\n",
    "\n"
   ]
  },
  {
   "cell_type": "markdown",
   "metadata": {},
   "source": [
    "***Essential Numpy Moves***\n",
    "\n",
    "**E1:**\n",
    "\n",
    "Create a 1 000 000‑sample vector of i.i.d. 𝒩(0, 1) numbers. 2. Re‑create it as float32 without an explicit loop."
   ]
  },
  {
   "cell_type": "code",
   "execution_count": 5,
   "metadata": {},
   "outputs": [
    {
     "name": "stdout",
     "output_type": "stream",
     "text": [
      "[[-0.29274736]\n",
      " [ 0.74768368]\n",
      " [ 0.83232078]\n",
      " [ 0.06265928]]\n"
     ]
    }
   ],
   "source": [
    "x64 = np.random.standard_normal((1000000,1)) # produce 1 million \"independent and identically distributed\" (iid) random numbers.\n",
    "print(x64[1:5])\n",
    "x32 = x64.astype(np.float32) # convert to 32 bit float"
   ]
  },
  {
   "cell_type": "markdown",
   "metadata": {},
   "source": [
    "\n",
    "**E2:**\n",
    "\n",
    "Turn a 100 × 100 matrix into a 10 × 10 × 100 “batch cube” where each frontal slice is 10 × 10"
   ]
  },
  {
   "cell_type": "code",
   "execution_count": 6,
   "metadata": {},
   "outputs": [],
   "source": [
    "X = np.random.standard_normal((100,100)) # produce 100 x 100 iid random numbers.\n",
    "Y = X.reshape(10,10,100)"
   ]
  },
  {
   "cell_type": "markdown",
   "metadata": {},
   "source": [
    "**E3**\n",
    "\n",
    "Compute all pairwise dot‑products of 100 random 3‑D vectors with and without a for‑loop."
   ]
  },
  {
   "cell_type": "code",
   "execution_count": 9,
   "metadata": {},
   "outputs": [
    {
     "name": "stdout",
     "output_type": "stream",
     "text": [
      "Execution time difference in for loop vs einsum: 0.039880990982055664 seconds\n"
     ]
    }
   ],
   "source": [
    "N = 100\n",
    "V = np.zeros((N,N), int)\n",
    "\n",
    "# first with a for loop\n",
    "v1 = np.random.randint(1,10,(N,3))\n",
    "start_time_1 = time.time()\n",
    "for i in range(N):\n",
    "    for j in range(N):\n",
    "        V[i,j] = np.dot(v1[i],v1[j].T)\n",
    "end_time_1 = time.time()\n",
    "\n",
    "\n",
    "# now with einsum\n",
    "start_time_2 = time.time()\n",
    "d2 = np.einsum('ik,jk->ij', v1, v1)\n",
    "end_time_2 = time.time()\n",
    "\n",
    "\n",
    "execution_time_1 = end_time_1 - start_time_1\n",
    "execution_time_2 = end_time_2 - start_time_2\n",
    "ex_diff = execution_time_1 - execution_time_2\n",
    "print(f\"Execution time difference in for loop vs einsum: {ex_diff} seconds\")"
   ]
  },
  {
   "cell_type": "markdown",
   "metadata": {},
   "source": [
    "**E3**\n",
    "\n",
    "Compute the product of \n",
    "\n",
    "1) Two matrices\n",
    "2) Matrix with a vector\n",
    "3) Batched matrix multiplication\n",
    "4) Using broadcastring compute the product of a batch of matrices with a single matrix"
   ]
  },
  {
   "cell_type": "code",
   "execution_count": 11,
   "metadata": {},
   "outputs": [
    {
     "name": "stdout",
     "output_type": "stream",
     "text": [
      "[[ True  True]\n",
      " [ True  True]]\n",
      "[[[23 20]\n",
      "  [55 48]]\n",
      "\n",
      " [[43 32]\n",
      "  [59 44]]]\n",
      "[[[ 7 10]\n",
      "  [15 22]]\n",
      "\n",
      " [[23 34]\n",
      "  [31 46]]]\n"
     ]
    }
   ],
   "source": [
    "A = np.array([[1, 2], [3, 4]])\n",
    "B = np.array([[5, 6], [7, 8]])\n",
    "v = np.array([3, 6])\n",
    "\n",
    "C = np.einsum('ij,jk->ik', A, B)  # Matrix multiplication using einsum\n",
    "D = np.matmul(A, B)  # Matrix multiplication using matmul\n",
    "print(C==D) # Check if the results are the same\n",
    "\n",
    "X1 = np.einsum('ij,j -> i', A, v) \n",
    "X2 = np.matmul(A, v)\n",
    "X1-X2 # Check if the results are the same\n",
    "\n",
    "D = np.array([[[1, 2], [3, 4]], [[5, 6], [7, 8]]])\n",
    "E = np.array([[[9, 8], [7, 6]], [[5, 4], [3, 2]]])\n",
    "\n",
    "X3 = np.matmul(D, E)\n",
    "print(X3)\n",
    "\n",
    "F = np.array([[[1, 2], [3, 4]], [[5, 6], [7, 8]]])\n",
    "G = np.array([[1, 2], [3, 4]])\n",
    "\n",
    "result = np.matmul(F, G)\n",
    "print(result)\n"
   ]
  },
  {
   "cell_type": "markdown",
   "metadata": {},
   "source": [
    "**E3**\n",
    "\n",
    "Generate 100 paths of geometric Brownian motion, each with 1000 timesteps, return a vector of pathwise means in one line."
   ]
  },
  {
   "cell_type": "code",
   "execution_count": 44,
   "metadata": {},
   "outputs": [
    {
     "data": {
      "text/plain": [
       "[<matplotlib.lines.Line2D at 0x290483baac8>]"
      ]
     },
     "execution_count": 44,
     "metadata": {},
     "output_type": "execute_result"
    },
    {
     "data": {
      "image/png": "[encoded data removed]",
      "text/plain": [
       "<Figure size 432x288 with 1 Axes>"
      ]
     },
     "metadata": {
      "needs_background": "light"
     },
     "output_type": "display_data"
    }
   ],
   "source": [
    "y = np.random.standard_normal((100, 1000)) # produce 100 x 1000 iid random numbers (increments)\n",
    "cum_sum = np.cumsum(y, axis=1) # cumulative sum along the second axis\n",
    "mean_cum_sum = np.mean(cum_sum, axis=1) # mean of the cumulative sum along the second axis\n",
    "\n",
    "# in  one line\n",
    "y = np.random.default_rng(22).standard_normal((100,1000)).cumsum(1).mean(1)\n",
    "x = range(1,101)\n",
    "plt.plot(x, y, label='Mean of Cumulative Sum', color='blue')"
   ]
  },
  {
   "cell_type": "code",
   "execution_count": null,
   "metadata": {},
   "outputs": [],
   "source": []
  }
 ],
 "metadata": {
  "kernelspec": {
   "display_name": "base",
   "language": "python",
   "name": "python3"
  },
  "language_info": {
   "codemirror_mode": {
    "name": "ipython",
    "version": 3
   },
   "file_extension": ".py",
   "mimetype": "text/x-python",
   "name": "python",
   "nbconvert_exporter": "python",
   "pygments_lexer": "ipython3",
   "version": "3.7.4"
  }
 },
 "nbformat": 4,
 "nbformat_minor": 2
}
