{
 "cells": [
  {
   "cell_type": "code",
   "execution_count": 176,
   "metadata": {},
   "outputs": [],
   "source": [
    "# Clear all variables\n",
    "%reset -f\n",
    "import pandas as pd\n",
    "import matplotlib.pyplot as plt\n",
    "import numpy as np\n",
    "import tensorflow as tf\n",
    "from tensorflow import keras\n",
    "import seaborn as sns\n",
    "import os\n",
    "import time\n",
    "from datetime import datetime\n",
    "from scipy.stats import norm\n",
    "import warnings\n",
    "warnings.filterwarnings(\"ignore\")\n",
    "\n"
   ]
  },
  {
   "cell_type": "markdown",
   "metadata": {},
   "source": [
    "***Essential Numpy Moves***\n",
    "\n",
    "**E1:**\n",
    "\n",
    "Create a 1 000 000‑sample vector of i.i.d. 𝒩(0, 1) numbers. 2. Re‑create it as float32 without an explicit loop."
   ]
  },
  {
   "cell_type": "code",
   "execution_count": 5,
   "metadata": {},
   "outputs": [
    {
     "name": "stdout",
     "output_type": "stream",
     "text": [
      "[[-0.29274736]\n",
      " [ 0.74768368]\n",
      " [ 0.83232078]\n",
      " [ 0.06265928]]\n"
     ]
    }
   ],
   "source": [
    "x64 = np.random.standard_normal((1000000,1)) # produce 1 million \"independent and identically distributed\" (iid) random numbers.\n",
    "print(x64[1:5])\n",
    "x32 = x64.astype(np.float32) # convert to 32 bit float"
   ]
  },
  {
   "cell_type": "markdown",
   "metadata": {},
   "source": [
    "\n",
    "**E2:**\n",
    "\n",
    "Turn a 100 × 100 matrix into a 10 × 10 × 100 “batch cube” where each frontal slice is 10 × 10"
   ]
  },
  {
   "cell_type": "code",
   "execution_count": 6,
   "metadata": {},
   "outputs": [],
   "source": [
    "X = np.random.standard_normal((100,100)) # produce 100 x 100 iid random numbers.\n",
    "Y = X.reshape(10,10,100)"
   ]
  },
  {
   "cell_type": "markdown",
   "metadata": {},
   "source": [
    "**E3**\n",
    "\n",
    "Compute all pairwise dot‑products of 100 random 3‑D vectors with and without a for‑loop."
   ]
  },
  {
   "cell_type": "code",
   "execution_count": 9,
   "metadata": {},
   "outputs": [
    {
     "name": "stdout",
     "output_type": "stream",
     "text": [
      "Execution time difference in for loop vs einsum: 0.039880990982055664 seconds\n"
     ]
    }
   ],
   "source": [
    "N = 100\n",
    "V = np.zeros((N,N), int)\n",
    "\n",
    "# first with a for loop\n",
    "v1 = np.random.randint(1,10,(N,3))\n",
    "start_time_1 = time.time()\n",
    "for i in range(N):\n",
    "    for j in range(N):\n",
    "        V[i,j] = np.dot(v1[i],v1[j].T)\n",
    "end_time_1 = time.time()\n",
    "\n",
    "\n",
    "# now with einsum\n",
    "start_time_2 = time.time()\n",
    "d2 = np.einsum('ik,jk->ij', v1, v1)\n",
    "end_time_2 = time.time()\n",
    "\n",
    "\n",
    "execution_time_1 = end_time_1 - start_time_1\n",
    "execution_time_2 = end_time_2 - start_time_2\n",
    "ex_diff = execution_time_1 - execution_time_2\n",
    "print(f\"Execution time difference in for loop vs einsum: {ex_diff} seconds\")"
   ]
  },
  {
   "cell_type": "markdown",
   "metadata": {},
   "source": [
    "**E3**\n",
    "\n",
    "Compute the product of \n",
    "\n",
    "1) Two matrices\n",
    "2) Matrix with a vector\n",
    "3) Batched matrix multiplication\n",
    "4) Using broadcastring compute the product of a batch of matrices with a single matrix"
   ]
  },
  {
   "cell_type": "code",
   "execution_count": 11,
   "metadata": {},
   "outputs": [
    {
     "name": "stdout",
     "output_type": "stream",
     "text": [
      "[[ True  True]\n",
      " [ True  True]]\n",
      "[[[23 20]\n",
      "  [55 48]]\n",
      "\n",
      " [[43 32]\n",
      "  [59 44]]]\n",
      "[[[ 7 10]\n",
      "  [15 22]]\n",
      "\n",
      " [[23 34]\n",
      "  [31 46]]]\n"
     ]
    }
   ],
   "source": [
    "A = np.array([[1, 2], [3, 4]])\n",
    "B = np.array([[5, 6], [7, 8]])\n",
    "v = np.array([3, 6])\n",
    "\n",
    "C = np.einsum('ij,jk->ik', A, B)  # Matrix multiplication using einsum\n",
    "D = np.matmul(A, B)  # Matrix multiplication using matmul\n",
    "print(C==D) # Check if the results are the same\n",
    "\n",
    "X1 = np.einsum('ij,j -> i', A, v) \n",
    "X2 = np.matmul(A, v)\n",
    "X1-X2 # Check if the results are the same\n",
    "\n",
    "D = np.array([[[1, 2], [3, 4]], [[5, 6], [7, 8]]])\n",
    "E = np.array([[[9, 8], [7, 6]], [[5, 4], [3, 2]]])\n",
    "\n",
    "X3 = np.matmul(D, E)\n",
    "print(X3)\n",
    "\n",
    "F = np.array([[[1, 2], [3, 4]], [[5, 6], [7, 8]]])\n",
    "G = np.array([[1, 2], [3, 4]])\n",
    "\n",
    "result = np.matmul(F, G)\n",
    "print(result)\n"
   ]
  },
  {
   "cell_type": "markdown",
   "metadata": {},
   "source": [
    "**E3**\n",
    "\n",
    "Generate 100 paths of geometric Brownian motion, each with 1000 timesteps, return a vector of pathwise means in one line."
   ]
  },
  {
   "cell_type": "code",
   "execution_count": 44,
   "metadata": {},
   "outputs": [
    {
     "data": {
      "text/plain": [
       "[<matplotlib.lines.Line2D at 0x290483baac8>]"
      ]
     },
     "execution_count": 44,
     "metadata": {},
     "output_type": "execute_result"
    },
    {
     "data": {
      "image/png": "[encoded data removed]",
      "text/plain": [
       "<Figure size 432x288 with 1 Axes>"
      ]
     },
     "metadata": {
      "needs_background": "light"
     },
     "output_type": "display_data"
    }
   ],
   "source": [
    "y = np.random.standard_normal((100, 1000)) # produce 100 x 1000 iid random numbers (increments)\n",
    "cum_sum = np.cumsum(y, axis=1) # cumulative sum along the second axis\n",
    "mean_cum_sum = np.mean(cum_sum, axis=1) # mean of the cumulative sum along the second axis\n",
    "\n",
    "# in  one line\n",
    "y = np.random.default_rng(22).standard_normal((100,1000)).cumsum(1).mean(1)\n",
    "x = range(1,101)\n",
    "plt.plot(x, y, label='Mean of Cumulative Sum', color='blue')"
   ]
  },
  {
   "cell_type": "markdown",
   "metadata": {},
   "source": []
  },
  {
   "cell_type": "markdown",
   "metadata": {},
   "source": [
    "## Black–Scholes partial-differential equation \n",
    "\n",
    "Analytically solve the BS equations for a European option.\n",
    "\n",
    "---\n",
    "\n",
    "***The Black–Scholes Model in PDE Form***\n",
    "\n",
    "### 1.1 Core assumptions  \n",
    "1. **Underlying dynamics** – The (discounted) stock price follows *geometric Brownian motion*  \n",
    "   $$dS_t = (r-q)\\,S_t\\,dt + \\sigma S_t\\,dW_t ,$$\n",
    "   with constant drift $(r-q)$ and volatility $(\\sigma).$\n",
    "2. **No arbitrage & frictionless markets** – You can trade continuously, borrow/lend at the risk-free rate $r$, and short without costs.  \n",
    "3. **European payoff** – The option’s payoff depends only on $S_T$ at a fixed expiry $T$.  \n",
    "\n",
    "### 1.2 Deriving the pricing PDE  \n",
    "Form a self-financing portfolio $\\Pi = V - \\Delta S$ that is *locally risk-free* by choosing $\\Delta = \\frac{\\partial V}{\\partial S}$.  \n",
    "Applying Itô’s lemma to $V(t,S_t)$ and equating the portfolio’s drift to the risk-free rate yields the **Black–Scholes PDE** \n",
    "\n",
    "$$\n",
    "\\boxed{\\;\n",
    "\\frac{\\partial V}{\\partial t} + \\tfrac12\\sigma^{2}S^{2}\\frac{\\partial^{2}V}{\\partial S^{2}}\n",
    "      + (r-q)S\\frac{\\partial V}{\\partial S} \\;-\\; rV \\;=\\; 0\\;}\n",
    "$$\n",
    "\n",
    "with terminal condition $V(T,S) = \\text{payoff}(S)$.  \n",
    "\n",
    "---\n",
    "\n",
    "***2 Closed-Form Solution for a European Call / Put***\n",
    "\n",
    "Solving the PDE with payoff $C(T,S)=\\max(S-K,0)$ (call) or $P(T,S)=\\max(K-S,0)$ (put) gives  \n",
    "\n",
    "$$\n",
    "\\begin{aligned}\n",
    "C &= S e^{-qT} N(d_1) - K e^{-rT} N(d_2),\\\\[4pt]\n",
    "P &= K e^{-rT} N(-d_2) - S e^{-qT} N(-d_1),\n",
    "\\end{aligned}\n",
    "$$\n",
    "where  \n",
    "$$\n",
    "d_{1,2} = \\frac{\\ln(S/K) + (r-q \\pm \\tfrac12\\sigma^2)T}{\\sigma\\sqrt{T}},\\qquad\n",
    "N(\\cdot)=\\text{standard normal CDF}.\n",
    "$$\n",
    "and \n",
    "$$\n",
    "N'(x)=\\frac{1}{\\sqrt{2\\pi}}e^{-x^{2}/2}, \\text{ is the standard normal PDF}\n",
    "$$\n",
    "Let us plot the CDF and PDF for the normal distribution different values of $\\mu$ and $\\sigma$ below to gain some intuition"
   ]
  },
  {
   "cell_type": "code",
   "execution_count": null,
   "metadata": {},
   "outputs": [
    {
     "data": {
      "text/plain": [
       "<matplotlib.legend.Legend at 0x2904e62d308>"
      ]
     },
     "execution_count": 296,
     "metadata": {},
     "output_type": "execute_result"
    },
    {
     "data": {
      "image/png": "[encoded data removed]",
      "text/plain": [
       "<Figure size 432x288 with 1 Axes>"
      ]
     },
     "metadata": {
      "needs_background": "light"
     },
     "output_type": "display_data"
    },
    {
     "data": {
      "image/png": "[encoded data removed]",
      "text/plain": [
       "<Figure size 432x288 with 1 Axes>"
      ]
     },
     "metadata": {
      "needs_background": "light"
     },
     "output_type": "display_data"
    }
   ],
   "source": [
    "y = np.random.standard_normal((100, 1))\n",
    "x = np.arange(-4, 4, 0.01)\n",
    "plt.figure()\n",
    "plt.plot(x,norm.cdf(x), label='CDF', color='red') # CDF of standard normal distribution with mean=0 and std=1\n",
    "plt.plot(x, norm.pdf(x), label='PDF', color='blue')\n",
    "plt.legend()\n",
    "\n",
    "plt.figure()\n",
    "plt.plot(x,norm.cdf(x,0,0.5), label='PDF $\\mu=0$, $\\sigma=0.5$',color='red') # PDF of normal distribution with mean=0 and std=0.1\n",
    "plt.plot(x,norm.pdf(x,0,0.5), label='CDF $\\mu=0$, $\\sigma=0.5$',color='blue') # CDF of normal distribution with mean=0 and std=0.1\n",
    "plt.legend()"
   ]
  },
  {
   "cell_type": "markdown",
   "metadata": {},
   "source": [
    "## 3 Greeks: Formulas, Units, and Intuition  \n",
    "\n",
    "| Greek | Definition | Closed-form (call) | Units | Practical meaning |\n",
    "|-------|-------------|--------------------|-------|-------------------|\n",
    "| **Delta** $\\displaystyle \\Delta = \\frac{\\partial V}{\\partial S}$ | Sensitivity to an *infinitesimal* change in spot price | $\\displaystyle e^{-qT}N(d_1)$ | dimensionless | **Hedge ratio** – hold $\\Delta$ shares per option to neutralise first-order price moves. |\n",
    "| **Gamma** $\\displaystyle \\Gamma = \\frac{\\partial^{2} V}{\\partial S^{2}}$ | Curvature of price vs. spot | $\\displaystyle \\frac{e^{-qT}N'(d_1)}{S\\sigma\\sqrt{T}}$ | 1/price | Measures how *Delta* changes as $S$ moves; large near-ATM, short-dated.  Drives *convexity* benefits and risk of delta-hedging error. |\n",
    "| **Vega** $\\displaystyle \\nu = \\frac{\\partial V}{\\partial \\sigma}$ | Volatility sensitivity | $\\displaystyle S e^{-qT} N'(d_1)\\sqrt{T}$ | price per vol-point | How much the option’s value moves per 1 % absolute change in σ.  Central for volatility trading. |\n",
    "| **Theta** $\\displaystyle \\Theta = -\\frac{\\partial V}{\\partial T}$ | Time-decay (negative for long calls/puts) | $\\displaystyle -\\frac{S e^{-qT} N'(d_1)\\sigma}{2\\sqrt{T}} - r K e^{-rT} N(d_2) + q S e^{-qT} N(d_1)$ | price / year | P/L from *letting the clock tick*.  Think of it as the “rent you pay” to be long optionality. |\n",
    "| **Rho** $\\displaystyle \\rho = \\frac{\\partial V}{\\partial r}$ | Risk-free rate sensitivity | $\\displaystyle K T e^{-rT} N(d_2)$ | price / rate-pt | Gain/loss if the term structure shifts; opposite sign for puts. |\n",
    "| **Psi** $\\displaystyle \\psi = \\frac{\\partial V}{\\partial q}$ (“dividend-rho”) | Dividend-yield sensitivity | $-S T e^{-qT} N(d_1)$ | price / yield-pt | Relevant for equity indexes with known dividend yield. |\n",
    "\n",
    "### 3.2 Physics analogies  \n",
    "| Option Greek | Physics analogue | Commentary |\n",
    "|--------------|------------------|------------|\n",
    "| Delta | *Velocity* | First derivative of option “position” with respect to underlying coordinate $S$. |\n",
    "| Gamma | *Acceleration / curvature* | Determines how “stable” your delta-hedge is – much like higher curvature forces you to adjust more often. |\n",
    "| Vega | *Susceptibility* | Response to “temperature” of the stochastic process (variance). |\n",
    "| Theta | *Energy dissipation* | System loses “free energy” (extrinsic value) as time flows. |\n",
    "\n",
    "---\n",
    "\n",
    "## 4 Greeks in Risk Management & Trading\n",
    "\n",
    "| Greek | Typical hedging instrument | Why it matters day-to-day |\n",
    "|-------|---------------------------|---------------------------|\n",
    "| Delta | Underlying shares / futures | Neutralise directional exposure. |\n",
    "| Gamma | Additional options (usually shorter-dated) | Manage the *rate* at which delta changes; high gamma means you must rebalance frequently. |\n",
    "| Vega  | Options at different strikes/expiries, variance swaps | Express pure volatility views (“vol trading”). |\n",
    "| Theta | Carry budget / financing | Determines expected daily bleed; options desks quote “theta-dollars” per night. |\n",
    "| Rho   | Bond futures / swaps | Small for equities but important in FX and rates options. |"
   ]
  },
  {
   "cell_type": "code",
   "execution_count": null,
   "metadata": {},
   "outputs": [],
   "source": [
    "def analytic_greek(S, K, T, sigma, r=0.0, q=0.0,  option_type: str = \"call\"):\n",
    "    F = S*np.exp(-q * T)\n",
    "    B = K*np.exp(-r * T)\n",
    "    sqrtT  = np.sqrt(T)\n",
    "    d1 = (np.log(S / K) + (r - q + 0.5 * sigma ** 2) * T) / (sigma * np.sqrt(T))\n",
    "    d2 = (d1 - sigma * np.sqrt(T))\n",
    "    if option_type == \"call\":\n",
    "        N1 = norm.cdf(d1)\n",
    "        N2 = norm.cdf(d2)\n",
    "        N1_prime = norm.pdf(d1)\n",
    "        price = F*N1 - B*N2\n",
    "        delta = np.exp(-q * T) * N1\n",
    "        gamma = np.exp(-q * T) * N1_prime / (S * sigma * sqrtT)\n",
    "        vega  = S * np.exp(-q * T) * N1_prime * sqrtT\n",
    "        theta = (-0.5 * S * np.exp(-q * T) * N1_prime * sigma / sqrtT +\n",
    "                +q * F * N1 - r * B * N2)\n",
    "        rho   = np.exp(-r * T) * K * T * N2\n",
    "\n",
    "    elif option_type == \"put\":\n",
    "        N1 = norm.cdf(-d1)\n",
    "        N2 = norm.cdf(-d2)\n",
    "        N1_prime = norm.pdf(d1)\n",
    "        price = B*N2 - F*N1 \n",
    "        delta = -np.exp(-q * T) * N1\n",
    "        gamma = (np.exp(-q * T) * N1_prime / (S * sigma * sqrtT))\n",
    "        vega  = S * np.exp(-q * T) * N1_prime * sqrtT\n",
    "        theta = -(-0.5 * S * np.exp(-q * T) * N1_prime * sigma / sqrtT +\n",
    "                +q * F * N1 - r * B * N2)\n",
    "        rho   = -np.exp(-r * T) * K * T * N2\n",
    "\n",
    "    return price, d1, d2, delta, gamma, theta, vega, rho"
   ]
  },
  {
   "cell_type": "code",
   "execution_count": 190,
   "metadata": {},
   "outputs": [
    {
     "name": "stdout",
     "output_type": "stream",
     "text": [
      " price: 6.120654113455842,d1: 0.1414213562373095, d2: -2.7755575615628914e-17, delta: 0.5562314580091424, gamma: 0.027928790169723425, theta: -6.575807867693853, vega: 27.928790169723428, rho: 24.7512458437292\n",
      " price: 5.1256374883726465,d1: 0.1414213562373095, d2: -2.7755575615628914e-17, delta: -0.4437685419908576, gamma: 0.027928790169723425, theta: 6.575807867693853, vega: 27.928790169723428, rho: -24.7512458437292\n"
     ]
    }
   ],
   "source": [
    "[price, d1, d2, delta, gamma, theta, vega, rho] = analytic_greek(100, 100, 0.5, 0.2, 0.02, 0.0,\"call\")\n",
    "print(f\" price: {price},d1: {d1}, d2: {d2}, delta: {delta}, gamma: {gamma}, theta: {theta}, vega: {vega}, rho: {rho}\")\n",
    "[price, d1, d2, delta, gamma, theta, vega, rho] = analytic_greek(100, 100, 0.5, 0.2, 0.02, 0.0,\"put\")\n",
    "print(f\" price: {price},d1: {d1}, d2: {d2}, delta: {delta}, gamma: {gamma}, theta: {theta}, vega: {vega}, rho: {rho}\")"
   ]
  },
  {
   "cell_type": "code",
   "execution_count": 214,
   "metadata": {},
   "outputs": [
    {
     "name": "stdout",
     "output_type": "stream",
     "text": [
      "True\n",
      "True\n",
      "True\n",
      "True\n",
      "True\n",
      "True\n",
      "True\n"
     ]
    }
   ],
   "source": [
    "# Test the analytic_greek function with different parameters\n",
    "S, K = 100, 100\n",
    "T, sigma = 0.5, 0.2\n",
    "r=0.02\n",
    "q=0.0\n",
    "F = S*np.exp(-q * T)\n",
    "B = K*np.exp(-r * T)\n",
    "X = analytic_greek(S, K, T, sigma,r,q, \"call\")\n",
    "Y = analytic_greek(S, K, T, sigma,r,q, \"put\")\n",
    "lhs = X[0]-Y[0]\n",
    "rhs = F-B  # r=q=0 in your defaults\n",
    "print(np.isclose(lhs, rhs, atol=1e-10))\n",
    "print(np.isclose(X[3]-Y[3], np.exp(-q*T), atol=1e-10)) # delta\n",
    "print(X[4]>0)\n",
    "print(X[5]<=0)\n",
    "print(X[6]>0)\n",
    "print(X[7]>0)\n",
    "print(Y[7]<0)\n"
   ]
  }
 ],
 "metadata": {
  "kernelspec": {
   "display_name": "base",
   "language": "python",
   "name": "python3"
  },
  "language_info": {
   "codemirror_mode": {
    "name": "ipython",
    "version": 3
   },
   "file_extension": ".py",
   "mimetype": "text/x-python",
   "name": "python",
   "nbconvert_exporter": "python",
   "pygments_lexer": "ipython3",
   "version": "3.7.4"
  }
 },
 "nbformat": 4,
 "nbformat_minor": 2
}
