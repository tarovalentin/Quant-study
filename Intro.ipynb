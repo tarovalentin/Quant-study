{
 "cells": [
  {
   "cell_type": "code",
   "execution_count": null,
   "metadata": {},
   "outputs": [
    {
     "name": "stderr",
     "output_type": "stream",
     "text": [
      "c:\\ProgramData\\Anaconda3\\lib\\site-packages\\statsmodels\\tools\\_testing.py:19: FutureWarning: pandas.util.testing is deprecated. Use the functions in the public API at pandas.testing instead.\n",
      "  import pandas.util.testing as tm\n"
     ]
    }
   ],
   "source": [
    "# Clear all variables (habit from MATLAB)\n",
    "%reset -f\n",
    "import pandas as pd\n",
    "import matplotlib.pyplot as plt\n",
    "import numpy as np\n",
    "import tensorflow as tf\n",
    "from tensorflow import keras\n",
    "import seaborn as sns\n",
    "import os\n",
    "import time\n",
    "from datetime import datetime\n",
    "from scipy.stats import norm\n",
    "import warnings\n",
    "warnings.filterwarnings(\"ignore\")\n",
    "\n"
   ]
  },
  {
   "cell_type": "markdown",
   "metadata": {},
   "source": [
    "***Essential Numpy Moves***\n",
    "\n",
    "**E1:**\n",
    "\n",
    "Create a 1 000 000‑sample vector of i.i.d. 𝒩(0, 1) numbers. 2. Re‑create it as float32 without an explicit loop."
   ]
  },
  {
   "cell_type": "code",
   "execution_count": 5,
   "metadata": {},
   "outputs": [
    {
     "name": "stdout",
     "output_type": "stream",
     "text": [
      "[[-0.29274736]\n",
      " [ 0.74768368]\n",
      " [ 0.83232078]\n",
      " [ 0.06265928]]\n"
     ]
    }
   ],
   "source": [
    "x64 = np.random.standard_normal((1000000,1)) # produce 1 million \"independent and identically distributed\" (iid) random numbers.\n",
    "print(x64[1:5])\n",
    "x32 = x64.astype(np.float32) # convert to 32 bit float"
   ]
  },
  {
   "cell_type": "markdown",
   "metadata": {},
   "source": [
    "\n",
    "**E2:**\n",
    "\n",
    "Turn a 100 × 100 matrix into a 10 × 10 × 100 “batch cube” where each frontal slice is 10 × 10"
   ]
  },
  {
   "cell_type": "code",
   "execution_count": 6,
   "metadata": {},
   "outputs": [],
   "source": [
    "X = np.random.standard_normal((100,100)) # produce 100 x 100 iid random numbers.\n",
    "Y = X.reshape(10,10,100)"
   ]
  },
  {
   "cell_type": "markdown",
   "metadata": {},
   "source": [
    "**E3**\n",
    "\n",
    "Compute all pairwise dot‑products of 100 random 3‑D vectors with and without a for‑loop."
   ]
  },
  {
   "cell_type": "code",
   "execution_count": 9,
   "metadata": {},
   "outputs": [
    {
     "name": "stdout",
     "output_type": "stream",
     "text": [
      "Execution time difference in for loop vs einsum: 0.039880990982055664 seconds\n"
     ]
    }
   ],
   "source": [
    "N = 100\n",
    "V = np.zeros((N,N), int)\n",
    "\n",
    "# first with a for loop\n",
    "v1 = np.random.randint(1,10,(N,3))\n",
    "start_time_1 = time.time()\n",
    "for i in range(N):\n",
    "    for j in range(N):\n",
    "        V[i,j] = np.dot(v1[i],v1[j].T)\n",
    "end_time_1 = time.time()\n",
    "\n",
    "\n",
    "# now with einsum\n",
    "start_time_2 = time.time()\n",
    "d2 = np.einsum('ik,jk->ij', v1, v1)\n",
    "end_time_2 = time.time()\n",
    "\n",
    "\n",
    "execution_time_1 = end_time_1 - start_time_1\n",
    "execution_time_2 = end_time_2 - start_time_2\n",
    "ex_diff = execution_time_1 - execution_time_2\n",
    "print(f\"Execution time difference in for loop vs einsum: {ex_diff} seconds\")"
   ]
  },
  {
   "cell_type": "markdown",
   "metadata": {},
   "source": [
    "**E3**\n",
    "\n",
    "Compute the product of \n",
    "\n",
    "1) Two matrices\n",
    "2) Matrix with a vector\n",
    "3) Batched matrix multiplication\n",
    "4) Using broadcastring compute the product of a batch of matrices with a single matrix"
   ]
  },
  {
   "cell_type": "code",
   "execution_count": 11,
   "metadata": {},
   "outputs": [
    {
     "name": "stdout",
     "output_type": "stream",
     "text": [
      "[[ True  True]\n",
      " [ True  True]]\n",
      "[[[23 20]\n",
      "  [55 48]]\n",
      "\n",
      " [[43 32]\n",
      "  [59 44]]]\n",
      "[[[ 7 10]\n",
      "  [15 22]]\n",
      "\n",
      " [[23 34]\n",
      "  [31 46]]]\n"
     ]
    }
   ],
   "source": [
    "A = np.array([[1, 2], [3, 4]])\n",
    "B = np.array([[5, 6], [7, 8]])\n",
    "v = np.array([3, 6])\n",
    "\n",
    "C = np.einsum('ij,jk->ik', A, B)  # Matrix multiplication using einsum\n",
    "D = np.matmul(A, B)  # Matrix multiplication using matmul\n",
    "print(C==D) # Check if the results are the same\n",
    "\n",
    "X1 = np.einsum('ij,j -> i', A, v) \n",
    "X2 = np.matmul(A, v)\n",
    "X1-X2 # Check if the results are the same\n",
    "\n",
    "D = np.array([[[1, 2], [3, 4]], [[5, 6], [7, 8]]])\n",
    "E = np.array([[[9, 8], [7, 6]], [[5, 4], [3, 2]]])\n",
    "\n",
    "X3 = np.matmul(D, E)\n",
    "print(X3)\n",
    "\n",
    "F = np.array([[[1, 2], [3, 4]], [[5, 6], [7, 8]]])\n",
    "G = np.array([[1, 2], [3, 4]])\n",
    "\n",
    "result = np.matmul(F, G)\n",
    "print(result)\n"
   ]
  },
  {
   "cell_type": "markdown",
   "metadata": {},
   "source": [
    "**E3**\n",
    "\n",
    "Generate 100 paths of geometric Brownian motion, each with 1000 timesteps, return a vector of pathwise means in one line."
   ]
  },
  {
   "cell_type": "code",
   "execution_count": null,
   "metadata": {},
   "outputs": [
    {
     "data": {
      "text/plain": [
       "[<matplotlib.lines.Line2D at 0x290483baac8>]"
      ]
     },
     "execution_count": 44,
     "metadata": {},
     "output_type": "execute_result"
    },
    {
     "data": {
      "image/png": "[encoded data removed]",
      "text/plain": [
       "<Figure size 432x288 with 1 Axes>"
      ]
     },
     "metadata": {
      "needs_background": "light"
     },
     "output_type": "display_data"
    }
   ],
   "source": [
    "y = np.random.standard_normal((100, 1000)) # produce 100 x 1000 iid random numbers \n",
    "cum_sum = np.cumsum(y, axis=1) # cumulative sum along the second axis\n",
    "mean_cum_sum = np.mean(cum_sum, axis=1) # mean of the cumulative sum along the second axis\n",
    "\n",
    "# ------------------------------------------------------------------------------------------\n",
    "# In  one line\n",
    "y = np.random.default_rng(22).standard_normal((100,1000)).cumsum(1).mean(1)\n",
    "x = range(1,101)\n",
    "plt.plot(x, y, label='Mean of Cumulative Sum', color='blue')"
   ]
  },
  {
   "cell_type": "markdown",
   "metadata": {},
   "source": [
    "## Black–Scholes partial-differential equation \n",
    "\n",
    "Analytically solve the BS equations for a European option.\n",
    "\n",
    "---\n",
    "\n",
    "***The Black–Scholes Model in PDE Form***\n",
    "\n",
    "### 1.1 Core assumptions  \n",
    "1. **Underlying dynamics** – The (discounted) stock price follows *geometric Brownian motion*  \n",
    "   $$dS_t = (r-q)\\,S_t\\,dt + \\sigma S_t\\,dW_t ,$$\n",
    "   with constant drift $(r-q)$ and volatility $(\\sigma).$\n",
    "2. **No arbitrage & frictionless markets** – You can trade continuously, borrow/lend at the risk-free rate $r$, and short without costs.  \n",
    "3. **European payoff** – The option’s payoff depends only on $S_T$ at a fixed expiry $T$.  \n",
    "\n",
    "### 1.2 Deriving the pricing PDE  \n",
    "Form a self-financing portfolio $\\Pi = V - \\Delta S$ that is *locally risk-free* by choosing $\\Delta = \\frac{\\partial V}{\\partial S}$.  \n",
    "Applying Itô’s lemma to $V(t,S_t)$ and equating the portfolio’s drift to the risk-free rate yields the **Black–Scholes PDE** \n",
    "\n",
    "$$\n",
    "\\boxed{\\;\n",
    "\\frac{\\partial V}{\\partial t} + \\tfrac12\\sigma^{2}S^{2}\\frac{\\partial^{2}V}{\\partial S^{2}}\n",
    "      + (r-q)S\\frac{\\partial V}{\\partial S} \\;-\\; rV \\;=\\; 0\\;}\n",
    "$$\n",
    "\n",
    "with terminal condition $V(T,S) = \\text{payoff}(S)$.  \n",
    "\n",
    "---\n",
    "\n",
    "***2 Closed-Form Solution for a European Call / Put***\n",
    "\n",
    "Solving the PDE with payoff $C(T,S)=\\max(S-K,0)$ (call) or $P(T,S)=\\max(K-S,0)$ (put) gives  \n",
    "\n",
    "$$\n",
    "\\begin{aligned}\n",
    "C &= S e^{-qT} N(d_1) - K e^{-rT} N(d_2),\\\\[4pt]\n",
    "P &= K e^{-rT} N(-d_2) - S e^{-qT} N(-d_1),\n",
    "\\end{aligned}\n",
    "$$\n",
    "where  \n",
    "$$\n",
    "d_{1,2} = \\frac{\\ln(S/K) + (r-q \\pm \\tfrac12\\sigma^2)T}{\\sigma\\sqrt{T}},\\qquad\n",
    "N(\\cdot)=\\text{standard normal CDF}.\n",
    "$$\n",
    "and \n",
    "$$\n",
    "N'(x)=\\frac{1}{\\sqrt{2\\pi}}e^{-x^{2}/2}, \\text{ is the standard normal PDF}\n",
    "$$\n",
    "Let us plot the CDF and PDF for the normal distribution different values of $\\mu$ and $\\sigma$ below to gain some intuition"
   ]
  },
  {
   "cell_type": "code",
   "execution_count": null,
   "metadata": {},
   "outputs": [
    {
     "data": {
      "text/plain": [
       "<matplotlib.legend.Legend at 0x2904e62d308>"
      ]
     },
     "execution_count": 296,
     "metadata": {},
     "output_type": "execute_result"
    },
    {
     "data": {
      "image/png": "[encoded data removed]",
      "text/plain": [
       "<Figure size 432x288 with 1 Axes>"
      ]
     },
     "metadata": {
      "needs_background": "light"
     },
     "output_type": "display_data"
    },
    {
     "data": {
      "image/png": "[encoded data removed]",
      "text/plain": [
       "<Figure size 432x288 with 1 Axes>"
      ]
     },
     "metadata": {
      "needs_background": "light"
     },
     "output_type": "display_data"
    }
   ],
   "source": [
    "y = np.random.standard_normal((100, 1))\n",
    "x = np.arange(-4, 4, 0.01)\n",
    "plt.figure()\n",
    "plt.plot(x,norm.cdf(x), label='CDF', color='red') # CDF of standard normal distribution with mean=0 and std=1\n",
    "plt.plot(x, norm.pdf(x), label='PDF', color='blue')\n",
    "plt.legend()\n",
    "\n",
    "plt.figure()\n",
    "plt.plot(x,norm.cdf(x,0,0.5), label='PDF $\\mu=0$, $\\sigma=0.5$',color='red') # PDF of normal distribution with mean=0 and std=0.1\n",
    "plt.plot(x,norm.pdf(x,0,0.5), label='CDF $\\mu=0$, $\\sigma=0.5$',color='blue') # CDF of normal distribution with mean=0 and std=0.1\n",
    "plt.legend()"
   ]
  },
  {
   "cell_type": "markdown",
   "metadata": {},
   "source": [
    "## 3 Greeks: Formulas, Units, and Intuition  \n",
    "\n",
    "| Greek | Definition | Closed-form (call) | Units | Practical meaning |\n",
    "|-------|-------------|--------------------|-------|-------------------|\n",
    "| **Delta** $\\displaystyle \\Delta = \\frac{\\partial V}{\\partial S}$ | Sensitivity to an *infinitesimal* change in spot price | $\\displaystyle e^{-qT}N(d_1)$ | dimensionless | **Hedge ratio** – hold $\\Delta$ shares per option to neutralise first-order price moves. |\n",
    "| **Gamma** $\\displaystyle \\Gamma = \\frac{\\partial^{2} V}{\\partial S^{2}}$ | Curvature of price vs. spot | $\\displaystyle \\frac{e^{-qT}N'(d_1)}{S\\sigma\\sqrt{T}}$ | 1/price | Measures how *Delta* changes as $S$ moves; large near-ATM, short-dated.  Drives *convexity* benefits and risk of delta-hedging error. |\n",
    "| **Vega** $\\displaystyle \\nu = \\frac{\\partial V}{\\partial \\sigma}$ | Volatility sensitivity | $\\displaystyle S e^{-qT} N'(d_1)\\sqrt{T}$ | price per vol-point | How much the option’s value moves per 1 % absolute change in σ.  Central for volatility trading. |\n",
    "| **Theta** $\\displaystyle \\Theta = -\\frac{\\partial V}{\\partial T}$ | Time-decay (negative for long calls/puts) | $\\displaystyle -\\frac{S e^{-qT} N'(d_1)\\sigma}{2\\sqrt{T}} - r K e^{-rT} N(d_2) + q S e^{-qT} N(d_1)$ | price / year | P/L from *letting the clock tick*.  Think of it as the “rent you pay” to be long optionality. |\n",
    "| **Rho** $\\displaystyle \\rho = \\frac{\\partial V}{\\partial r}$ | Risk-free rate sensitivity | $\\displaystyle K T e^{-rT} N(d_2)$ | price / rate-pt | Gain/loss if the term structure shifts; opposite sign for puts. |\n",
    "| **Psi** $\\displaystyle \\psi = \\frac{\\partial V}{\\partial q}$ (“dividend-rho”) | Dividend-yield sensitivity | $-S T e^{-qT} N(d_1)$ | price / yield-pt | Relevant for equity indexes with known dividend yield. |\n",
    "---\n",
    "\n",
    "## 4 Greeks in Risk Management & Trading\n",
    "\n",
    "| Greek | Typical hedging instrument | Why it matters day-to-day |\n",
    "|-------|---------------------------|---------------------------|\n",
    "| Delta | Underlying shares / futures | Neutralise directional exposure. |\n",
    "| Gamma | Additional options (usually shorter-dated) | Manage the *rate* at which delta changes; high gamma means you must rebalance frequently. |\n",
    "| Vega  | Options at different strikes/expiries, variance swaps | Express pure volatility views (“vol trading”). |\n",
    "| Theta | Carry budget / financing | Determines expected daily bleed; options desks quote “theta-dollars” per night. |\n",
    "| Rho   | Bond futures / swaps | Small for equities but important in FX and rates options. |"
   ]
  },
  {
   "cell_type": "code",
   "execution_count": 366,
   "metadata": {},
   "outputs": [],
   "source": [
    "# Second iteration of the code that used the \"sign\" for the option type (in the first iteration I had to different calculations for call and put options)\n",
    "def analytic_greek(S, K, T, sigma, r=0.0, q=0.0,  option_type: str = \"call\"):\n",
    "    F = S*np.exp(-q * T)\n",
    "    B = K*np.exp(-r * T)\n",
    "    sqrtT  = np.sqrt(T)\n",
    "    d1 = (np.log(S / K) + (r - q + 0.5 * sigma ** 2) * T) / (sigma * np.sqrt(T))\n",
    "    d2 = (d1 - sigma * np.sqrt(T))\n",
    "\n",
    "    if option_type == \"call\":\n",
    "        sign = 1\n",
    "    else:\n",
    "        sign = -1\n",
    "\n",
    "    N1 = norm.cdf(sign*d1)\n",
    "    N2 = norm.cdf(sign*d2)\n",
    "    N1_prime = norm.pdf(d1)\n",
    "    price = sign*(F*N1 - B*N2)\n",
    "    delta = sign*np.exp(-q * T) * N1\n",
    "    gamma = np.exp(-q * T) * N1_prime / (S * sigma * sqrtT)\n",
    "    vega  = S * np.exp(-q * T) * N1_prime * sqrtT\n",
    "    theta = sign*(-0.5 * S * np.exp(-q * T) * N1_prime * sigma / sqrtT +\n",
    "            +q * F * N1 - r * B * N2)\n",
    "    rho   = sign*np.exp(-r * T) * K * T * N2\n",
    "\n",
    "    return price, d1, d2, delta, gamma, theta, vega, rho"
   ]
  },
  {
   "cell_type": "code",
   "execution_count": 6,
   "metadata": {},
   "outputs": [
    {
     "data": {
      "text/plain": [
       "array([ True,  True,  True,  True,  True,  True,  True,  True])"
      ]
     },
     "execution_count": 6,
     "metadata": {},
     "output_type": "execute_result"
    }
   ],
   "source": [
    "def check_analytic_greek():\n",
    "    # Test the analytic_greek function for known case\n",
    "    X = analytic_greek(100, 95, 0.75, 0.24, 0.03, 0.01,\"call\")\n",
    "    return np.isclose(X,[11.534305993009554, 0.4228768097884608, 0.21503071288019557, 0.6588474956611785, 0.017421264426114427, -5.988989966253025, 31.358275967005966, 40.76283267983122])\n",
    "check_analytic_greek()"
   ]
  },
  {
   "cell_type": "markdown",
   "metadata": {},
   "source": [
    "## Monte carlo of European, Asian and American options\n",
    "\n",
    "**European options** can be exercised on their experiation date. We simulate the pricepath by iteratively updating the price by $S_{i}=S_{i-1}e^{(r-q-\\frac{1}{2}\\sigma^2)\\text{d}t+\\sigma \\sqrt{\\text{d}t}Z_i}$, with Z being Monte Carlo generated numbers.\n",
    "\n",
    "For Asian (european) options the final price is given as an average over some pre-disclosed time interval. If there is only one timestep, this will be equal to the European option.\n",
    "\n",
    "American options can be exercised at any point. For the american option there is no closed form solution"
   ]
  },
  {
   "cell_type": "code",
   "execution_count": 367,
   "metadata": {},
   "outputs": [],
   "source": [
    "def mc_euro(S0, K, T, sigma, r=0.0, q=0.0, option_type: str = \"call\", npaths=10000, nsteps=1000):\n",
    "    dt = T / nsteps\n",
    "    S = np.zeros((npaths, nsteps + 1))\n",
    "    S[:, 0] = S0\n",
    "    for i in range(1, nsteps + 1):\n",
    "        Z = np.random.standard_normal(npaths)  # standard normal random variables\n",
    "        S[:,i] = S[:, i - 1]*np.exp((r - q - 0.5 * sigma ** 2) * dt + sigma * np.sqrt(dt) * Z)\n",
    "    if option_type == \"call\":\n",
    "        price = np.exp(-r * T) * np.mean(np.maximum(S[:, -1] - K, 0))\n",
    "        err = np.exp(-r * T) * np.std(np.maximum(S[:, -1] - K, 0)) / np.sqrt(npaths)\n",
    "    elif option_type == \"put\":\n",
    "        price = np.exp(-r * T) * np.mean(np.maximum(K - S[:, -1], 0))\n",
    "        err = np.exp(-r * T) * np.std(np.maximum(K - S[:, -1], 0)) / np.sqrt(npaths)\n",
    "    return price, err"
   ]
  },
  {
   "cell_type": "markdown",
   "metadata": {},
   "source": [
    "***Checks***\n",
    "\n",
    "Let us check the accuracy compared to the analytic solution and how it changes as N changes:"
   ]
  },
  {
   "cell_type": "code",
   "execution_count": 17,
   "metadata": {},
   "outputs": [
    {
     "data": {
      "text/plain": [
       "([<matplotlib.lines.Line2D at 0x26c02631d08>],\n",
       " [1.8632217301042777,\n",
       "  0.43289368845146203,\n",
       "  0.17649723536118866,\n",
       "  0.09586271621154818,\n",
       "  0])"
      ]
     },
     "execution_count": 17,
     "metadata": {},
     "output_type": "execute_result"
    },
    {
     "data": {
      "image/png": "[encoded data removed]",
      "text/plain": [
       "<Figure size 432x288 with 1 Axes>"
      ]
     },
     "metadata": {
      "needs_background": "light"
     },
     "output_type": "display_data"
    }
   ],
   "source": [
    "def check_mc(S,K,T,sigma,r,q):\n",
    "    Y = analytic_greek(S,K,T,sigma,r,q,\"call\")\n",
    "    dif = [0,0,0,0,0]\n",
    "    for i in range(2, 6):\n",
    "        X = mc_euro(S,K,T,sigma,r,q, \"call\" , 10**(i), 1000)\n",
    "        dif[i-2] = np.abs(X[0] - Y[0])\n",
    "    plt.figure()\n",
    "    out = plt.plot(['$10^2$','$10^3$','$10^4$','$10^5$','$10^6$'], dif)\n",
    "    plt.ylabel('|Analytic-Monte-carlo|')\n",
    "    return out, dif\n",
    "check_mc(100, 105, 0.75, 0.24, 0.03, 0.01)"
   ]
  },
  {
   "cell_type": "markdown",
   "metadata": {},
   "source": [
    "The plot above should go to 0 as $N\\to\\infty$"
   ]
  },
  {
   "cell_type": "markdown",
   "metadata": {},
   "source": [
    "***Asian options***\n",
    "\n",
    "Lets now do a MC of asian options. This is similar to the European option, but in the end we take the mean over the values of S during the path, to set the price"
   ]
  },
  {
   "cell_type": "code",
   "execution_count": 358,
   "metadata": {},
   "outputs": [],
   "source": [
    "def mc_asian(S0,K,T,sigma,r,q,option_type: str = \"call\", npaths=10000, nsteps=1000):\n",
    "    dt = T/nsteps\n",
    "    S = np.zeros((npaths, nsteps + 1))\n",
    "    S[:, 0] = S0\n",
    "    for i in range(1, nsteps + 1):\n",
    "        Z = np.random.standard_normal(npaths)  # standard normal random variables\n",
    "        S[:,i] = S[:, i - 1]*np.exp((r - q - 0.5 * sigma ** 2) * dt + sigma * np.sqrt(dt) * Z)\n",
    "    S_mean = np.mean(S[:, 1:], axis=1)  # mean of the paths\n",
    "    if option_type == \"call\":\n",
    "        price = np.exp(-r * T) * np.mean(np.maximum(S_mean - K, 0))\n",
    "        err = np.exp(-r * T) * np.std(np.maximum(S_mean - K, 0)) / np.sqrt(npaths)\n",
    "    elif option_type == \"put\":\n",
    "        price = np.exp(-r * T) * np.mean(np.maximum(K - S_mean, 0))\n",
    "        err = np.exp(-r * T) * np.std(np.maximum(K - S_mean, 0)) / np.sqrt(npaths)\n",
    "    return price"
   ]
  },
  {
   "cell_type": "code",
   "execution_count": 364,
   "metadata": {},
   "outputs": [
    {
     "data": {
      "text/plain": [
       "3.0744791001245564"
      ]
     },
     "execution_count": 364,
     "metadata": {},
     "output_type": "execute_result"
    }
   ],
   "source": [
    "mc_asian(100, 105, 0.75, 0.24, 0.03, 0.01,\"call\", npaths=10000, nsteps=1000)"
   ]
  },
  {
   "cell_type": "markdown",
   "metadata": {},
   "source": [
    "Let us test that this is equal to the European options when taking nsteps = 1 (i.e. ending the Monte Carlo paths imediatly, so the average is the same as the final value)"
   ]
  },
  {
   "cell_type": "code",
   "execution_count": 374,
   "metadata": {},
   "outputs": [
    {
     "name": "stdout",
     "output_type": "stream",
     "text": [
      "Test if Asian mc is close to Euro mc:  True\n",
      "Test if Asian mc is close to Euro analytic:  True\n",
      "Asian mc price:  6.747275842146164\n",
      "Euro mc price:  6.767607887475131\n",
      "Euro analytic price:  6.760519238235446\n"
     ]
    }
   ],
   "source": [
    "\n",
    "def test_regression_to_euro(S,K,T,sigma,r,q,option_type: str = \"call\", npaths=10000):\n",
    "    nsteps=1\n",
    "    X = mc_asian(S, K, T, sigma, r ,q ,\"call\", npaths, nsteps)\n",
    "    Y = mc_euro(S, K, T, sigma, r, q, \"call\", npaths, nsteps)\n",
    "    Z = analytic_greek(S, K, T, sigma, r, q, \"call\")\n",
    "    return np.isclose(X,Y[0],10**(-2)),np.isclose(X,Z[0],10**(-2)), X, Y[0], Z[0]\n",
    "    \n",
    "out = test_regression_to_euro(100, 105, 0.75, 0.24, 0.03, 0.01,\"call\", npaths=1000000)\n",
    "print(\"Test if Asian mc is close to Euro mc: \", out[0])\n",
    "print(\"Test if Asian mc is close to Euro analytic: \", out[1])\n",
    "print(\"Asian mc price: \", out[2])\n",
    "print(\"Euro mc price: \", out[3])\n",
    "print(\"Euro analytic price: \", out[4])"
   ]
  },
  {
   "cell_type": "markdown",
   "metadata": {},
   "source": [
    "## American options"
   ]
  },
  {
   "cell_type": "markdown",
   "metadata": {},
   "source": [
    "For the american options things get more complicated since we can exercise early. First let us do the \"simplest\" thing and just do Monte Carlo and just simulate the paths and find the average price that givs the highest pay-off. This will give an \"upper bound\" on the price."
   ]
  },
  {
   "cell_type": "code",
   "execution_count": 380,
   "metadata": {},
   "outputs": [
    {
     "data": {
      "text/plain": [
       "(12.328841838792913, 0.14222838018920658)"
      ]
     },
     "execution_count": 380,
     "metadata": {},
     "output_type": "execute_result"
    }
   ],
   "source": [
    "def mc_american_simple(S0, K, T, sigma, r=0.0, q=0.0, option_type: str = \"put\", npaths = 10000, nsteps = 100):\n",
    "    # First we simulate the paths, using the same method as in mc_euro.\n",
    "    dt    = T / nsteps\n",
    "    drift = (r - q - 0.5 * sigma**2) * dt\n",
    "    diff  = sigma * np.sqrt(dt)\n",
    "\n",
    "    S = np.empty((npaths, nsteps + 1))\n",
    "    S[:, 0] = S0\n",
    "    for t in range(1, nsteps + 1):\n",
    "        Z = np.random.standard_normal(npaths)\n",
    "        S[:, t] = S[:, t-1] * np.exp(drift + diff * Z)\n",
    "\n",
    "    # 1b. intrinsic payoff function\n",
    "    if option_type.lower() == \"call\":\n",
    "        intrinsic = np.maximum(S - K, 0.0)      # shape (N, m+1)\n",
    "    elif option_type.lower() == \"put\":\n",
    "        intrinsic = np.maximum(K - S, 0.0)\n",
    "\n",
    "    disc_vec = np.exp(-r * dt * np.arange(nsteps + 1))\n",
    "    discounted = intrinsic * disc_vec \n",
    "\n",
    "    # ---------- 4. take path‑wise maximum and average ------------------\n",
    "    payoff_path = discounted.max(axis=1) \n",
    "    price  = payoff_path.mean()\n",
    "    stderr = payoff_path.std(ddof=1) / math.sqrt(npaths)\n",
    "    return price, stderr\n",
    "\n",
    "mc_american_simple(100, 105, 0.75, 0.24, 0.03, 0.01,\"call\", npaths=10000, nsteps=100)"
   ]
  },
  {
   "cell_type": "code",
   "execution_count": 381,
   "metadata": {},
   "outputs": [
    {
     "data": {
      "text/plain": [
       "(12.688507890318224, 0.14456413922172084)"
      ]
     },
     "execution_count": 381,
     "metadata": {},
     "output_type": "execute_result"
    }
   ],
   "source": [
    "mc_american_simple(100, 105, 0.75, 0.24, 0.03, 0.01,\"call\", npaths=10000, nsteps=100)"
   ]
  },
  {
   "cell_type": "code",
   "execution_count": null,
   "metadata": {},
   "outputs": [],
   "source": [
    "def mc_american(S0, K, T, sigma, r=0.0, q=0.0, option_type: str = \"put\", npaths = 10000, nsteps = 100):\n",
    "    # First we simulate the paths, using the same method as in mc_euro.\n",
    "    dt    = T / nsteps\n",
    "    drift = (r - q - 0.5 * sigma**2) * dt\n",
    "    diff  = sigma * np.sqrt(dt)\n",
    "\n",
    "    S = np.empty((npaths, nsteps + 1))\n",
    "    S[:, 0] = S0\n",
    "    for t in range(1, nsteps + 1):\n",
    "        Z = np.random.standard_normal(npaths)\n",
    "        S[:, t] = S[:, t-1] * np.exp(drift + diff * Z)\n",
    "\n",
    "    # 1b. intrinsic payoff function\n",
    "    if option_type.lower() == \"call\":\n",
    "        intrinsic = lambda s: np.maximum(s - K, 0.0)\n",
    "    elif option_type.lower() == \"put\":\n",
    "        intrinsic = lambda s: np.maximum(K - s, 0.0)\n",
    "    else:\n",
    "        raise ValueError(\"option_type must be 'call' or 'put'\")\n",
    "\n",
    "    # 2. Longstaff–Schwartz backward loop\n",
    "    # One‑step discount factor exp(-r * dt). multiplied once per backward step.\n",
    "    disc = np.exp(-r * dt)\n",
    "    cash = intrinsic(S[:, -1])            # terminal pay‑offs\n",
    "    # Now we go backwards in time, starting from t = nsteps - 1\n",
    "    # and go through the last column of S[:, t] to the first column S[:, 0]\n",
    "    first_ex = np.full(npaths, nsteps, dtype=int)\n",
    "    for t in range(nsteps - 1, 0, -1):\n",
    "        cash *= disc                      # roll every path one step back\n",
    "\n",
    "        itm = intrinsic(S[:, t]) > 0      # only in‑the‑money paths\n",
    "        if not itm.any():\n",
    "            continue\n",
    "\n",
    "        X = S[itm, t]\n",
    "        Y = cash[itm]                     # already discounted\n",
    "\n",
    "        # regression basis: [1, S, S²]\n",
    "        A = np.column_stack((np.ones_like(X),  X, X**2))\n",
    "        beta, *_ = np.linalg.lstsq(A, Y, rcond=None)\n",
    "        continuation = A @ beta\n",
    "\n",
    "        # exercise decision\n",
    "        exercise = intrinsic(X) > continuation\n",
    "        idx      = np.where(itm)[0]\n",
    "        cash[idx[exercise]] = intrinsic(X[exercise])\n",
    "        first_ex[idx[exercise]] = np.minimum(first_ex[idx[exercise]], t)\n",
    "\n",
    "\n",
    "        # continuation paths keep their Y (already discounted)\n",
    "\n",
    "    # 3. one last discount to t = 0\n",
    "    price  = disc * cash.mean()\n",
    "    stderr = disc * cash.std(ddof=1) / math.sqrt(npaths)\n",
    "    return price, stderr, first_ex, S, dt\n"
   ]
  },
  {
   "cell_type": "code",
   "execution_count": 356,
   "metadata": {},
   "outputs": [
    {
     "ename": "ValueError",
     "evalue": "too many values to unpack (expected 2)",
     "output_type": "error",
     "traceback": [
      "\u001b[1;31m---------------------------------------------------------------------------\u001b[0m",
      "\u001b[1;31mValueError\u001b[0m                                Traceback (most recent call last)",
      "\u001b[1;32m<ipython-input-356-12f57e9b7a75>\u001b[0m in \u001b[0;36m<module>\u001b[1;34m\u001b[0m\n\u001b[0;32m      1\u001b[0m \u001b[0mK1\u001b[0m\u001b[1;33m,\u001b[0m \u001b[0mK2\u001b[0m \u001b[1;33m=\u001b[0m \u001b[1;36m90\u001b[0m\u001b[1;33m,\u001b[0m \u001b[1;36m110\u001b[0m\u001b[1;33m\u001b[0m\u001b[1;33m\u001b[0m\u001b[0m\n\u001b[1;32m----> 2\u001b[1;33m \u001b[0mput1\u001b[0m\u001b[1;33m,\u001b[0m \u001b[0m_\u001b[0m \u001b[1;33m=\u001b[0m \u001b[0mmc_american\u001b[0m\u001b[1;33m(\u001b[0m\u001b[1;36m100\u001b[0m\u001b[1;33m,\u001b[0m \u001b[0mK1\u001b[0m\u001b[1;33m,\u001b[0m \u001b[1;36m0.5\u001b[0m\u001b[1;33m,\u001b[0m \u001b[1;36m0.3\u001b[0m\u001b[1;33m,\u001b[0m \u001b[0mr\u001b[0m\u001b[1;33m=\u001b[0m\u001b[1;36m0.01\u001b[0m\u001b[1;33m,\u001b[0m \u001b[0moption_type\u001b[0m\u001b[1;33m=\u001b[0m\u001b[1;34m\"put\"\u001b[0m\u001b[1;33m)\u001b[0m\u001b[1;33m\u001b[0m\u001b[1;33m\u001b[0m\u001b[0m\n\u001b[0m\u001b[0;32m      3\u001b[0m \u001b[0mput2\u001b[0m\u001b[1;33m,\u001b[0m \u001b[0m_\u001b[0m \u001b[1;33m=\u001b[0m \u001b[0mmc_american\u001b[0m\u001b[1;33m(\u001b[0m\u001b[1;36m100\u001b[0m\u001b[1;33m,\u001b[0m \u001b[0mK2\u001b[0m\u001b[1;33m,\u001b[0m \u001b[1;36m0.5\u001b[0m\u001b[1;33m,\u001b[0m \u001b[1;36m0.3\u001b[0m\u001b[1;33m,\u001b[0m \u001b[0mr\u001b[0m\u001b[1;33m=\u001b[0m\u001b[1;36m0.01\u001b[0m\u001b[1;33m,\u001b[0m \u001b[0moption_type\u001b[0m\u001b[1;33m=\u001b[0m\u001b[1;34m\"put\"\u001b[0m\u001b[1;33m)\u001b[0m\u001b[1;33m\u001b[0m\u001b[1;33m\u001b[0m\u001b[0m\n\u001b[0;32m      4\u001b[0m \u001b[1;32massert\u001b[0m \u001b[0mput2\u001b[0m \u001b[1;33m>\u001b[0m \u001b[0mput1\u001b[0m\u001b[1;33m,\u001b[0m \u001b[1;34m\"Put price should rise with strike\"\u001b[0m\u001b[1;33m\u001b[0m\u001b[1;33m\u001b[0m\u001b[0m\n",
      "\u001b[1;31mValueError\u001b[0m: too many values to unpack (expected 2)"
     ]
    }
   ],
   "source": [
    "K1, K2 = 90, 110\n",
    "put1, _ = mc_american(100, K1, 0.5, 0.3, r=0.01, option_type=\"put\")\n",
    "put2, _ = mc_american(100, K2, 0.5, 0.3, r=0.01, option_type=\"put\")\n",
    "assert put2 > put1, \"Put price should rise with strike\""
   ]
  },
  {
   "cell_type": "code",
   "execution_count": 350,
   "metadata": {},
   "outputs": [
    {
     "name": "stdout",
     "output_type": "stream",
     "text": [
      "99622\n",
      "100000\n"
     ]
    }
   ],
   "source": [
    "print(np.count_nonzero(am[2] == 100))\n",
    "print(np.size(am[2]))"
   ]
  },
  {
   "cell_type": "code",
   "execution_count": 130,
   "metadata": {},
   "outputs": [
    {
     "name": "stdout",
     "output_type": "stream",
     "text": [
      "American put estimate: 8.6432  ± 0.1095\n"
     ]
    },
    {
     "data": {
      "image/png": "[encoded data removed]",
      "text/plain": [
       "<Figure size 432x288 with 1 Axes>"
      ]
     },
     "metadata": {
      "needs_background": "light"
     },
     "output_type": "display_data"
    },
    {
     "data": {
      "image/png": "[encoded data removed]",
      "text/plain": [
       "<Figure size 432x288 with 1 Axes>"
      ]
     },
     "metadata": {
      "needs_background": "light"
     },
     "output_type": "display_data"
    }
   ],
   "source": [
    "import numpy as np\n",
    "import math\n",
    "import matplotlib.pyplot as plt\n",
    "\n",
    "# --- Monte‑Carlo European pricer for reference (unchanged) ------------------\n",
    "def mc_euro(S0, K, T, sigma, r=0.0, q=0.0,\n",
    "            option_type: str = \"call\",\n",
    "            npaths: int = 10_000, nsteps: int = 1_000):\n",
    "    dt    = T / nsteps\n",
    "    drift = (r - q - 0.5 * sigma**2) * dt\n",
    "    diff  = sigma * math.sqrt(dt)\n",
    "\n",
    "    S = np.zeros((npaths, nsteps + 1))\n",
    "    S[:, 0] = S0\n",
    "    for t in range(1, nsteps + 1):\n",
    "        Z = np.random.standard_normal(npaths)\n",
    "        S[:, t] = S[:, t-1] * np.exp(drift + diff * Z)\n",
    "\n",
    "    sign = +1 if option_type.lower() == \"call\" else -1\n",
    "    payoff = np.maximum(sign * (S[:, -1] - K), 0.0)\n",
    "    disc   = math.exp(-r * T)\n",
    "    return disc * payoff.mean(), disc * payoff.std(ddof=1) / math.sqrt(npaths)\n",
    "\n",
    "# --- Longstaff–Schwartz American pricer (returns first_exercise times) ------\n",
    "def mc_american(S0, K, T, sigma, r=0.0, q=0.0,\n",
    "                option_type: str = \"put\",\n",
    "                npaths: int = 20_000, nsteps: int = 200):\n",
    "    dt    = T / nsteps\n",
    "    drift = (r - q - 0.5 * sigma**2) * dt\n",
    "    diff  = sigma * math.sqrt(dt)\n",
    "\n",
    "    S = np.empty((npaths, nsteps + 1))\n",
    "    S[:, 0] = S0\n",
    "    for t in range(1, nsteps + 1):\n",
    "        Z = np.random.standard_normal(npaths)\n",
    "        S[:, t] = S[:, t-1] * np.exp(drift + diff * Z)\n",
    "\n",
    "    if option_type.lower() == \"call\":\n",
    "        intrinsic = lambda s: np.maximum(s - K, 0.0)\n",
    "    elif option_type.lower() == \"put\":\n",
    "        intrinsic = lambda s: np.maximum(K - s, 0.0)\n",
    "    else:\n",
    "        raise ValueError(\"option_type must be 'call' or 'put'\")\n",
    "\n",
    "    disc = math.exp(-r * dt)\n",
    "    cash = intrinsic(S[:, -1])\n",
    "    first_ex = np.full(npaths, nsteps, dtype=int)   # store first exercise slice\n",
    "\n",
    "    for t in range(nsteps - 1, 0, -1):\n",
    "        cash *= disc\n",
    "        itm = intrinsic(S[:, t]) > 0\n",
    "        if not itm.any():\n",
    "            continue\n",
    "\n",
    "        X = S[itm, t]\n",
    "        Y = cash[itm]\n",
    "\n",
    "        A = np.column_stack((np.ones_like(X), X, X**2))\n",
    "        beta, *_ = np.linalg.lstsq(A, Y, rcond=None)\n",
    "        continuation = A @ beta\n",
    "        exercise_now = intrinsic(X) > continuation\n",
    "\n",
    "        idx = np.where(itm)[0]\n",
    "        cash[idx[exercise_now]] = intrinsic(X[exercise_now])\n",
    "        first_ex[idx[exercise_now]] = np.minimum(first_ex[idx[exercise_now]], t)\n",
    "\n",
    "    price  = disc * cash.mean()\n",
    "    stderr = disc * cash.std(ddof=1) / math.sqrt(npaths)\n",
    "    return price, stderr, first_ex, S, dt\n",
    "\n",
    "# ----------- Generate data & plot exercise boundary for an American put -----\n",
    "S0, K, T, sigma, r = 100, 100, 1.0, 0.25, 0.03\n",
    "price, err, first_ex, paths, dt = mc_american(S0, K, T, sigma, r,\n",
    "                                              option_type=\"put\",\n",
    "                                              npaths=30000, nsteps=250)\n",
    "\n",
    "# scatter the first exercise point of each path\n",
    "mask = first_ex < 250   # paths that exercised before expiry\n",
    "exercise_times = first_ex[mask] * dt\n",
    "exercise_prices = paths[np.arange(paths.shape[0])[mask], first_ex[mask]]\n",
    "\n",
    "plt.figure(figsize=(6,4))\n",
    "plt.scatter(exercise_times, exercise_prices, s=4)\n",
    "plt.xlabel(\"Exercise time (years)\")\n",
    "plt.ylabel(\"Underlying price at exercise\")\n",
    "plt.title(\"Simulated early‑exercise boundary (American put)\")\n",
    "plt.tight_layout()\n",
    "print(f\"American put estimate: {price:.4f}  ± {1.96*err:.4f}\")\n",
    "\n",
    "# time remaining = T - t\n",
    "exercise_times_remaining = T - exercise_times\n",
    "\n",
    "plt.figure(figsize=(6,4))\n",
    "plt.scatter(exercise_times_remaining, exercise_prices, s=4)\n",
    "#plt.gca().invert_xaxis()              # optional: put expiry on the right like LS01\n",
    "plt.xlabel(\"Time remaining to expiry (years)\")\n",
    "plt.ylabel(\"Underlying price at exercise\")\n",
    "plt.title(\"Early‑exercise scatter (American put)\")\n",
    "plt.tight_layout()\n",
    "\n"
   ]
  },
  {
   "cell_type": "code",
   "execution_count": null,
   "metadata": {},
   "outputs": [
    {
     "data": {
      "text/plain": [
       "0"
      ]
     },
     "execution_count": 127,
     "metadata": {},
     "output_type": "execute_result"
    }
   ],
   "source": [
    "np.size(exercise_prices[:-1])\n",
    "np.size(exercise_times_remaining[:-1])"
   ]
  },
  {
   "cell_type": "code",
   "execution_count": null,
   "metadata": {},
   "outputs": [
    {
     "ename": "SyntaxError",
     "evalue": "invalid syntax (<ipython-input-131-33086f7dc53b>, line 1)",
     "output_type": "error",
     "traceback": [
      "\u001b[1;36m  File \u001b[1;32m\"<ipython-input-131-33086f7dc53b>\"\u001b[1;36m, line \u001b[1;32m1\u001b[0m\n\u001b[1;33m    Terminal intrinsic  --> cash(T)\u001b[0m\n\u001b[1;37m                     ^\u001b[0m\n\u001b[1;31mSyntaxError\u001b[0m\u001b[1;31m:\u001b[0m invalid syntax\n"
     ]
    }
   ],
   "source": []
  },
  {
   "cell_type": "code",
   "execution_count": null,
   "metadata": {},
   "outputs": [],
   "source": []
  }
 ],
 "metadata": {
  "kernelspec": {
   "display_name": "base",
   "language": "python",
   "name": "python3"
  },
  "language_info": {
   "codemirror_mode": {
    "name": "ipython",
    "version": 3
   },
   "file_extension": ".py",
   "mimetype": "text/x-python",
   "name": "python",
   "nbconvert_exporter": "python",
   "pygments_lexer": "ipython3",
   "version": "3.7.4"
  }
 },
 "nbformat": 4,
 "nbformat_minor": 2
}
