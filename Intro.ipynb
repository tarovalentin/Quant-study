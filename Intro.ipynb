{
 "cells": [
  {
   "cell_type": "code",
   "execution_count": 21,
   "metadata": {},
   "outputs": [],
   "source": [
    "# Clear all variables\n",
    "%reset -f\n",
    "import pandas as pd\n",
    "import matplotlib.pyplot as plt\n",
    "import numpy as np\n",
    "import tensorflow as tf\n",
    "from tensorflow import keras\n",
    "import seaborn as sns\n",
    "import os\n",
    "import time\n",
    "from datetime import datetime\n",
    "\n",
    "import warnings\n",
    "warnings.filterwarnings(\"ignore\")\n",
    "\n"
   ]
  },
  {
   "cell_type": "markdown",
   "metadata": {},
   "source": [
    "***Essential Numpy Moves***\n",
    "\n",
    "**E1:**\n",
    "\n",
    "Create a 1 000 000‑sample vector of i.i.d. 𝒩(0, 1) numbers. 2. Re‑create it as float32 without an explicit loop."
   ]
  },
  {
   "cell_type": "code",
   "execution_count": 157,
   "metadata": {},
   "outputs": [
    {
     "name": "stdout",
     "output_type": "stream",
     "text": [
      "[[-0.32335152]\n",
      " [ 1.00146311]\n",
      " [-1.9536632 ]\n",
      " [ 1.39449376]]\n"
     ]
    }
   ],
   "source": [
    "x64 = np.random.standard_normal((1000000,1)) # produce 1 million \"independent and identically distributed\" (iid) random numbers.\n",
    "print(x64[1:5])\n",
    "x32 = x.astype(np.float32) # convert to 32 bit float"
   ]
  },
  {
   "cell_type": "markdown",
   "metadata": {},
   "source": [
    "\n",
    "**E2:**\n",
    "\n",
    "Turn a 100 × 100 matrix into a 10 × 10 × 100 “batch cube” where each frontal slice is 10 × 10"
   ]
  },
  {
   "cell_type": "code",
   "execution_count": 169,
   "metadata": {},
   "outputs": [],
   "source": [
    "X = np.random.standard_normal((100,100)) # produce 100 x 100 iid random numbers.\n",
    "Y = X.reshape(10,10,100)"
   ]
  },
  {
   "cell_type": "markdown",
   "metadata": {},
   "source": [
    "**E3**\n",
    "\n",
    "Compute all pairwise dot‑products of 100 random 3‑D vectors without a for‑loop."
   ]
  },
  {
   "cell_type": "code",
   "execution_count": 222,
   "metadata": {},
   "outputs": [
    {
     "name": "stdout",
     "output_type": "stream",
     "text": [
      "Execution time difference in for loop vs einsum: 1.8913671970367432\n"
     ]
    }
   ],
   "source": [
    "N = 1000\n",
    "V = np.zeros((N,N), int)\n",
    "\n",
    "v1 = np.random.randint(1,10,(N,3))\n",
    "start_time_1 = time.time()\n",
    "for i in range(N):\n",
    "    for j in range(N):\n",
    "        V[i,j] = np.dot(v1[i],v1[j].T)\n",
    "end_time_1 = time.time()\n",
    "\n",
    "start_time_2 = time.time()\n",
    "d2 = np.einsum('ik,jk->ij', v1, v1)\n",
    "end_time_2 = time.time()\n",
    "\n",
    "\n",
    "execution_time_1 = end_time_1 - start_time_1\n",
    "execution_time_2 = end_time_2 - start_time_2\n",
    "ex_diff = execution_time_1 - execution_time_2\n",
    "print(f\"Execution time difference in for loop vs einsum: {ex_diff}\")"
   ]
  },
  {
   "cell_type": "code",
   "execution_count": null,
   "metadata": {},
   "outputs": [],
   "source": []
  }
 ],
 "metadata": {
  "kernelspec": {
   "display_name": "base",
   "language": "python",
   "name": "python3"
  },
  "language_info": {
   "codemirror_mode": {
    "name": "ipython",
    "version": 3
   },
   "file_extension": ".py",
   "mimetype": "text/x-python",
   "name": "python",
   "nbconvert_exporter": "python",
   "pygments_lexer": "ipython3",
   "version": "3.7.4"
  }
 },
 "nbformat": 4,
 "nbformat_minor": 2
}
